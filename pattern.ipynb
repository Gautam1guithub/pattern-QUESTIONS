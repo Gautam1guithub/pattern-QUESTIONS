{
 "cells": [
  {
   "cell_type": "code",
   "execution_count": 1,
   "id": "70d5b18e",
   "metadata": {},
   "outputs": [
    {
     "name": "stdout",
     "output_type": "stream",
     "text": [
      "****\n",
      " ****\n",
      "  ****\n",
      "   ****\n"
     ]
    }
   ],
   "source": [
    "for i in range(1,5):\n",
    "    for j in range(1,i):\n",
    "        print(\" \",end=\"\")\n",
    "    for k in range(1,5):\n",
    "        print(\"*\",end=\"\")\n",
    "    print(\"\")        "
   ]
  },
  {
   "cell_type": "code",
   "execution_count": 4,
   "id": "7e3dcf91",
   "metadata": {},
   "outputs": [
    {
     "name": "stdout",
     "output_type": "stream",
     "text": [
      "*****\n",
      "*   *\n",
      "*   *\n",
      "*****\n"
     ]
    }
   ],
   "source": [
    "for i in range(1,5):\n",
    "    for j in range(1,6):\n",
    "        if j ==1 or j==5 or i==1 or i==4:\n",
    "            print(\"*\",end=\"\")\n",
    "        else:\n",
    "            print(\" \",end=\"\")\n",
    "    print(\"\")            "
   ]
  },
  {
   "cell_type": "code",
   "execution_count": 9,
   "id": "782efdaa",
   "metadata": {},
   "outputs": [
    {
     "name": "stdout",
     "output_type": "stream",
     "text": [
      "A\n",
      "AB\n",
      "ABC\n",
      "ABCD\n",
      "ABCDE\n"
     ]
    }
   ],
   "source": [
    "for i in range(1,6):\n",
    "    for j in range(1,i+1):\n",
    "        print(chr(64+j),end=\"\")\n",
    "    print(\"\")    "
   ]
  },
  {
   "cell_type": "code",
   "execution_count": 10,
   "id": "d9c9f4a0",
   "metadata": {},
   "outputs": [
    {
     "name": "stdout",
     "output_type": "stream",
     "text": [
      "A\n",
      "BB\n",
      "CCC\n",
      "DDDD\n",
      "EEEEE\n"
     ]
    }
   ],
   "source": [
    "n = 5\n",
    "for i in range(n):\n",
    "    for j in range(0,i+1):\n",
    "        print(chr(65+i),end=\"\")\n",
    "    print(\"\")    "
   ]
  },
  {
   "cell_type": "code",
   "execution_count": 13,
   "id": "ddf2c576",
   "metadata": {},
   "outputs": [
    {
     "name": "stdout",
     "output_type": "stream",
     "text": [
      "E \n",
      "D D \n",
      "C C C \n",
      "B B B B \n",
      "A A A A A \n"
     ]
    }
   ],
   "source": [
    "n = 5\n",
    "for i in range(n):\n",
    "    for j in range(0,i+1):\n",
    "        print(chr(69-i),end=\" \")\n",
    "    print(\"\")    "
   ]
  },
  {
   "cell_type": "code",
   "execution_count": 16,
   "id": "f47e320e",
   "metadata": {},
   "outputs": [
    {
     "name": "stdout",
     "output_type": "stream",
     "text": [
      "          * \n",
      "        * * \n",
      "      * * * \n",
      "    * * * * \n",
      "  * * * * * \n"
     ]
    }
   ],
   "source": [
    "for i in range(1,6):\n",
    "    for j in range(i,6):\n",
    "        print(\" \",end=\" \")\n",
    "    for k in range(1,i+1):\n",
    "        print(\"*\",end=\" \")\n",
    "    print(\"\")        "
   ]
  },
  {
   "cell_type": "code",
   "execution_count": 17,
   "id": "531ddd0f",
   "metadata": {},
   "outputs": [
    {
     "name": "stdout",
     "output_type": "stream",
     "text": [
      "          A \n",
      "        B B \n",
      "      C C C \n",
      "    D D D D \n",
      "  E E E E E \n"
     ]
    }
   ],
   "source": [
    "for i in range(1,6):\n",
    "    for j in range(i,6):\n",
    "        print(\" \",end=\" \")\n",
    "    for k in range(1,i+1):\n",
    "        print(chr(64+i),end=\" \")\n",
    "    print(\"\")        "
   ]
  },
  {
   "cell_type": "code",
   "execution_count": 22,
   "id": "fae1cbcf",
   "metadata": {},
   "outputs": [
    {
     "name": "stdout",
     "output_type": "stream",
     "text": [
      "A B C D E \n",
      "  A B C D \n",
      "    A B C \n",
      "      A B \n",
      "        A \n"
     ]
    }
   ],
   "source": [
    "for i in range(0,5):\n",
    "    for j in range(1,i+1):\n",
    "        print(\" \",end=\" \")\n",
    "    for k in range(0,5-i):\n",
    "        print(chr(65+k),end=\" \")\n",
    "    print(\"\")        "
   ]
  },
  {
   "cell_type": "code",
   "execution_count": 25,
   "id": "8de26827",
   "metadata": {},
   "outputs": [
    {
     "name": "stdout",
     "output_type": "stream",
     "text": [
      "     *\n",
      "    ***\n",
      "   *****\n",
      "  *******\n",
      " *********\n"
     ]
    }
   ],
   "source": [
    "for i in range(0,5):\n",
    "    for j in range(i,5):\n",
    "        print(\" \",end=\"\")\n",
    "    for k in range(0,2*i+1):\n",
    "        print(\"*\",end=\"\")\n",
    "    print(\"\")        "
   ]
  },
  {
   "cell_type": "code",
   "execution_count": 45,
   "id": "92a4e218",
   "metadata": {},
   "outputs": [
    {
     "name": "stdout",
     "output_type": "stream",
     "text": [
      "    *\n",
      "   * *\n",
      "  *   *\n",
      " *******\n"
     ]
    }
   ],
   "source": [
    "for i in range(1,8,2):\n",
    "    for j in range(i,8,2):\n",
    "        print(\" \",end=\"\")\n",
    "    for k in range(1,i+1):\n",
    "        if i==1 or i==7 or k==i or k==1:\n",
    "            print(\"*\",end=\"\")\n",
    "        else:\n",
    "            print(\" \",end=\"\")\n",
    "\n",
    "    print(\"\")    \n"
   ]
  },
  {
   "cell_type": "code",
   "execution_count": 47,
   "id": "1c910ecb",
   "metadata": {},
   "outputs": [
    {
     "name": "stdout",
     "output_type": "stream",
     "text": [
      "*******\n",
      " *****\n",
      "  ***\n",
      "   *\n"
     ]
    }
   ],
   "source": [
    "for i in range(1,8,2):\n",
    "    for j in range(3,i+1,2):\n",
    "        print(\" \",end=\"\")\n",
    "    for k in range(i,8):\n",
    "        print(\"*\",end=\"\")\n",
    "    print(\"\")        "
   ]
  },
  {
   "cell_type": "code",
   "execution_count": 55,
   "id": "0470cf59",
   "metadata": {},
   "outputs": [
    {
     "name": "stdout",
     "output_type": "stream",
     "text": [
      "   *\n",
      "  ***\n",
      " *****\n",
      "*******\n",
      " *****\n",
      "  ***\n",
      "   *\n"
     ]
    }
   ],
   "source": [
    "for i in range(1,8,2):\n",
    "    for j in range(i,6,2):\n",
    "        print(\" \",end=\"\")\n",
    "    for k in range(1,i+1):\n",
    "        print(\"*\",end=\"\")    \n",
    "    print(\"\")\n",
    "for i in range(1,6,2):\n",
    "    for j in range(1,i+1,2):\n",
    "        print(\" \",end=\"\")\n",
    "    for k in range(i,6):\n",
    "        print(\"*\",end=\"\")    \n",
    "    \n",
    "    print(\"\")    \n"
   ]
  },
  {
   "cell_type": "code",
   "execution_count": 58,
   "id": "7ba213b9",
   "metadata": {},
   "outputs": [
    {
     "name": "stdout",
     "output_type": "stream",
     "text": [
      "1 2 3 4 5 \n",
      "1 2 3 4 \n",
      "1 2 3 \n",
      "1 2 \n",
      "1 \n"
     ]
    }
   ],
   "source": [
    "for i in range(0,5):\n",
    "    for j in range(1,6-i):\n",
    "        print(j,end=\" \")\n",
    "    print(\"\")    "
   ]
  },
  {
   "cell_type": "code",
   "execution_count": 66,
   "id": "94a08cc8",
   "metadata": {},
   "outputs": [
    {
     "name": "stdout",
     "output_type": "stream",
     "text": [
      "        1 \n",
      "      2 3 2 \n",
      "    3 4 5 4 3 \n",
      "  4 5 6 7 6 5 4 \n",
      "5 6 7 8 9 8 7 6 5 \n"
     ]
    }
   ],
   "source": [
    "for i in range(1,6):\n",
    "    for j in range(i,5):\n",
    "        print(\" \",end=\" \")\n",
    "    for k in range(i,2*i):\n",
    "        print(k,end=\" \")\n",
    "    for l in range(2 * i - 2, i - 1, -1):\n",
    "        print(l,end=\" \")        \n",
    "    print(\"\")    "
   ]
  },
  {
   "cell_type": "code",
   "execution_count": 88,
   "id": "b8c40657",
   "metadata": {},
   "outputs": [
    {
     "name": "stdout",
     "output_type": "stream",
     "text": [
      "    1  \n",
      "   1  2  \n",
      "  1     3  \n",
      " 1        4  \n",
      "1  2  3  4  5  \n"
     ]
    }
   ],
   "source": [
    "for i in range(1,6):\n",
    "    for j in range(i,5):\n",
    "        print(\" \",end=\"\")\n",
    "    for k in range(1,i+1):\n",
    "        if k==1 or i==5 or k==i:\n",
    "            print(k,end=\"  \")\n",
    "        else:\n",
    "            print(\"  \",end=\" \")        \n",
    "    print(\"\")        "
   ]
  },
  {
   "cell_type": "code",
   "execution_count": 92,
   "id": "749d85c2",
   "metadata": {},
   "outputs": [
    {
     "name": "stdout",
     "output_type": "stream",
     "text": [
      "A B C D E \n",
      "A       E \n",
      "A       E \n",
      "A       E \n",
      "A B C D E \n"
     ]
    }
   ],
   "source": [
    "for i in range(1,6):\n",
    "    for j in range(1,6):\n",
    "        if i==1 or i==5 or j==1 or j==5:\n",
    "            print(chr(64+j),end=\" \")\n",
    "        else:\n",
    "            print(\" \",end=\" \")    \n",
    "    print(\"\")    "
   ]
  },
  {
   "cell_type": "code",
   "execution_count": 124,
   "id": "0d0cc497",
   "metadata": {},
   "outputs": [
    {
     "name": "stdout",
     "output_type": "stream",
     "text": [
      "        A \n",
      "      A   C \n",
      "    A       E \n",
      "  A           G \n",
      "A               I \n",
      "  A           G \n",
      "    A       E \n",
      "      A   C \n",
      "        A \n"
     ]
    }
   ],
   "source": [
    "for i in range(1,10,2):\n",
    "    for k in range(i,8,2):\n",
    "        print(\" \",end=\" \")\n",
    "    for k in range(1,i+1):\n",
    "        if  k==1 or k==i:\n",
    "            print(chr(64+k),end=\" \")\n",
    "        else:\n",
    "            print(\" \",end=\" \")        \n",
    "    print(\"\")\n",
    "for i in range(1,8,2):\n",
    "    for j in range(1,i+1,2):\n",
    "        print(\" \",end=\" \")\n",
    "    for k in range(1,9-i):\n",
    "        if  k==1 or k==8-i:\n",
    "            print(chr(64+k),end=\" \")\n",
    "        else:\n",
    "            print(\" \",end=\" \")        \n",
    "    print(\"\")            "
   ]
  },
  {
   "cell_type": "code",
   "execution_count": null,
   "id": "b6f14cf0",
   "metadata": {},
   "outputs": [
    {
     "name": "stdout",
     "output_type": "stream",
     "text": [
      "        * \n",
      "      * * * \n",
      "    *     * * \n",
      "  *         * * \n",
      "* * * * * * * * * \n"
     ]
    }
   ],
   "source": [
    "for i in range(1,10,2):\n",
    "    for j in range(i,8,2):\n",
    "        print(\" \",end=\" \")\n",
    "    for k in range(1,i+1):\n",
    "        if k==1 or k==i or i==9 or k==i-:\n",
    "            print(\"*\",end=\" \")\n",
    "        else:\n",
    "            print(\" \",end=\" \")        \n",
    "    print(\"\")    "
   ]
  },
  {
   "cell_type": "code",
   "execution_count": 4,
   "id": "7e59a035",
   "metadata": {},
   "outputs": [
    {
     "name": "stdout",
     "output_type": "stream",
     "text": [
      "10 11 12 13 14 \n",
      "15 16 17 18 \n",
      "19 20 21 \n",
      "22 23 \n",
      "24 \n"
     ]
    }
   ],
   "source": [
    "n = 5\n",
    "num = 10\n",
    "for i in range(n):\n",
    "    for j in range(n-i):\n",
    "        print(num,end=\" \")\n",
    "        num+=1\n",
    "    print(\"\")    "
   ]
  },
  {
   "cell_type": "code",
   "execution_count": 8,
   "id": "84d8ff18",
   "metadata": {},
   "outputs": [
    {
     "name": "stdout",
     "output_type": "stream",
     "text": [
      "1 0 1 0 1 \n",
      "1 0 1 0 \n",
      "1 0 1 \n",
      "1 0 \n",
      "1 \n"
     ]
    }
   ],
   "source": [
    "for i in range(1,6):\n",
    "    for i in range(1,7-i):\n",
    "        if i%2==0:\n",
    "            print(\"0\",end=\" \")\n",
    "        else:\n",
    "            print(\"1\",end=\" \")    \n",
    "    print(\"\")    "
   ]
  },
  {
   "cell_type": "code",
   "execution_count": null,
   "id": "44d04465",
   "metadata": {},
   "outputs": [],
   "source": [
    "1 0 1 0 1 \n",
    "2 0 2 0 \n",
    "3 0 3 \n",
    "4 0 \n",
    "5 "
   ]
  },
  {
   "cell_type": "code",
   "execution_count": null,
   "id": "0b020a18",
   "metadata": {},
   "outputs": [],
   "source": [
    "for i in range(1,6):\n",
    "    for i in range(1,7-i):\n",
    "        if i%2==0:\n",
    "            print(\"0\",end=\" \")\n",
    "        else:\n",
    "            print(\"1\",end=\" \")    \n",
    "    print(\"\")"
   ]
  },
  {
   "cell_type": "code",
   "execution_count": 11,
   "id": "f6ca870c",
   "metadata": {},
   "outputs": [
    {
     "name": "stdout",
     "output_type": "stream",
     "text": [
      "1 0 1 0 1 \n",
      "2 0 2 0 \n",
      "3 0 3 \n",
      "4 0 \n",
      "5 \n"
     ]
    }
   ],
   "source": [
    "n = 5\n",
    "num = 1\n",
    "for i in range(n):\n",
    "    for j in range(n-i):\n",
    "        if j==0 or j==2 or j==4:\n",
    "            print(num,end=\" \")\n",
    "        else:\n",
    "            print(\"0\",end=\" \")\n",
    "    print(\"\")\n",
    "    num+=1\n",
    "                "
   ]
  },
  {
   "cell_type": "code",
   "execution_count": 23,
   "id": "1bf12c39",
   "metadata": {},
   "outputs": [
    {
     "name": "stdout",
     "output_type": "stream",
     "text": [
      "[80, 60, 20, 10, 9]\n"
     ]
    }
   ],
   "source": [
    "list2 = [10,20,60,80,9]\n",
    "for i in range(0,len(list2)):\n",
    "    for j in range(i+1,len(list2)):\n",
    "        if list2[i]< list2[j]:\n",
    "            list2[i],list2[j] = list2[j],list2[i]\n",
    "print(list2)\n",
    "\n"
   ]
  },
  {
   "cell_type": "code",
   "execution_count": 39,
   "id": "4757c88e",
   "metadata": {},
   "outputs": [
    {
     "name": "stdout",
     "output_type": "stream",
     "text": [
      "7\n"
     ]
    }
   ],
   "source": [
    "# finding the second largst number\n",
    "Second_largest = 0\n",
    "nums = [4, 1, 7, 3, 9]\n",
    "for i in range(0,len(nums)):\n",
    "    for j in range(i+1,len(nums)):\n",
    "        if nums[i]<nums[j]:\n",
    "            nums[i],nums[j]=nums[j],nums[i]\n",
    "Second_largest+= nums[1]\n",
    "print(Second_largest)                                   "
   ]
  },
  {
   "cell_type": "code",
   "execution_count": null,
   "id": "1695fc8c",
   "metadata": {},
   "outputs": [
    {
     "name": "stdout",
     "output_type": "stream",
     "text": [
      "it is paliindrome\n"
     ]
    }
   ],
   "source": [
    "# checking the list is pallindrome or not\n",
    "\n",
    "lst = [1, 2, 3, 2, 1]\n",
    "if lst == lst[::-1]:\n",
    "    print(\"it is paliindrome\")\n",
    "else:\n",
    "    print(\"it is not pallindrome\")    "
   ]
  },
  {
   "cell_type": "code",
   "execution_count": 46,
   "id": "88162f55",
   "metadata": {},
   "outputs": [
    {
     "name": "stdout",
     "output_type": "stream",
     "text": [
      "[2, 4, 6]\n"
     ]
    }
   ],
   "source": [
    "# checking the all even numbers in list\n",
    "\n",
    "nums = [1, 2, 3, 4, 5, 6]\n",
    "nums2 = []\n",
    "for i in nums:\n",
    "    if i%2==0:\n",
    "        nums2.append(i)\n",
    "print(nums2)        \n",
    "\n"
   ]
  },
  {
   "cell_type": "code",
   "execution_count": 5,
   "id": "d436bddb",
   "metadata": {},
   "outputs": [
    {
     "name": "stdout",
     "output_type": "stream",
     "text": [
      "5\n"
     ]
    }
   ],
   "source": [
    "prices =[7,1,5,3,6,4]\n",
    "max_profit = 0\n",
    "for i in range(0,len(prices)):\n",
    "    for j in range(i+1,len(prices)):\n",
    "        if prices[j]-prices[i]>max_profit:\n",
    "            max_profit = prices[j]-prices[i]\n",
    "print(max_profit)            "
   ]
  },
  {
   "cell_type": "code",
   "execution_count": 12,
   "id": "64163f7e",
   "metadata": {},
   "outputs": [
    {
     "name": "stdout",
     "output_type": "stream",
     "text": [
      "[2, 3, 5, 6, 7]\n",
      "2 7\n",
      "3 6\n"
     ]
    }
   ],
   "source": [
    "# two sum problem by single loop\n",
    "\n",
    "lst = [2,3,6,7,5]     ## [2,3,5,6,7]\n",
    "lst.sort()\n",
    "print(lst)\n",
    "start = 0\n",
    "end = len(lst)-1\n",
    "target = 9\n",
    "\n",
    "while(start<end):\n",
    "    if lst[start]+lst[end] == target:\n",
    "        print(lst[start],lst[end])\n",
    "        start+=1\n",
    "        end-=1\n",
    "        \n",
    "    elif lst[start]+lst[end]>target:\n",
    "        end-=1\n",
    "    else:\n",
    "        start+=1        \n"
   ]
  },
  {
   "cell_type": "code",
   "execution_count": 17,
   "id": "7b1015ca",
   "metadata": {},
   "outputs": [
    {
     "name": "stdout",
     "output_type": "stream",
     "text": [
      "[10, 20, 30, 40, 50, 60, 70]\n"
     ]
    }
   ],
   "source": [
    "lst1 = [10,20,30,40,50]\n",
    "lst2 = [30,40,50,60,70]\n",
    "lst3 = lst1 + [x for x in lst2 if x not in lst1]\n",
    "print(lst3)"
   ]
  },
  {
   "cell_type": "code",
   "execution_count": 23,
   "id": "948ea8e5",
   "metadata": {},
   "outputs": [
    {
     "name": "stdout",
     "output_type": "stream",
     "text": [
      "[1, 2, 4]\n"
     ]
    }
   ],
   "source": [
    "# plus one probelem \n",
    "# Input: digits = [1,2,3]\n",
    "# Output: [1,2,4]\n",
    "# Explanation: The array represents the integer 123.\n",
    "# Incrementing by one gives 123 + 1 = 124.\n",
    "# Thus, the result should be [1,2,4].\n",
    "\n",
    "digits = [1,2,3]\n",
    "num = 0\n",
    "for i in range(0,len(digits)):\n",
    "    num = num*10 + digits[i]\n",
    "lst1 =[int(x) for x in str(num+1) ] \n",
    "print(lst1)  "
   ]
  },
  {
   "cell_type": "code",
   "execution_count": 3,
   "id": "ecf1b33d",
   "metadata": {},
   "outputs": [
    {
     "name": "stdout",
     "output_type": "stream",
     "text": [
      "-1 -1 2\n",
      "-1 0 1\n",
      "-1 0 1\n"
     ]
    }
   ],
   "source": [
    "nums = [-1,0,1,2,-1,-4]\n",
    "nums.sort()\n",
    "for i in range(0,len(nums)-2):\n",
    "    start = i+1\n",
    "    end = len(nums)-1\n",
    "    while(start<end):\n",
    "        if nums[i]+nums[start]+nums[end]==0:\n",
    "            print(nums[i],nums[start],nums[end])\n",
    "            end-=1\n",
    "            start+=1\n",
    "        elif nums[i]+nums[start]+nums[end]>0:\n",
    "            end-=1\n",
    "        else:\n",
    "            start+=1        \n",
    "\n"
   ]
  },
  {
   "cell_type": "code",
   "execution_count": null,
   "id": "51e9eac2",
   "metadata": {},
   "outputs": [
    {
     "name": "stdout",
     "output_type": "stream",
     "text": [
      "{1, 2, 3, 4, 5, 6}\n"
     ]
    }
   ],
   "source": [
    "\n",
    "a ={1,2,3,4,5}\n",
    "a.add(6)\n",
    "print(a)"
   ]
  },
  {
   "cell_type": "code",
   "execution_count": 23,
   "id": "005f6a1f",
   "metadata": {},
   "outputs": [
    {
     "name": "stdout",
     "output_type": "stream",
     "text": [
      "{1, 2, 3, 4, 5, 7, 8, 9}\n"
     ]
    }
   ],
   "source": [
    "a ={1,2,3,4,5}\n",
    "a.update([7,8,9])\n",
    "print(a)"
   ]
  },
  {
   "cell_type": "code",
   "execution_count": 24,
   "id": "38e2b0d9",
   "metadata": {},
   "outputs": [
    {
     "name": "stdout",
     "output_type": "stream",
     "text": [
      "{1, 3, 4, 5}\n"
     ]
    }
   ],
   "source": [
    "a ={1,2,3,4,5}\n",
    "a.remove(2)\n",
    "print(a)"
   ]
  },
  {
   "cell_type": "code",
   "execution_count": 1,
   "id": "b0054828",
   "metadata": {},
   "outputs": [
    {
     "name": "stdout",
     "output_type": "stream",
     "text": [
      "6000\n"
     ]
    }
   ],
   "source": [
    "def multiply(*num):\n",
    "    result = 1\n",
    "    for i in num:\n",
    "        result *=i\n",
    "    print(result)\n",
    "\n",
    "multiply(10,20,30)        \n"
   ]
  },
  {
   "cell_type": "code",
   "execution_count": 2,
   "id": "b9836a6b",
   "metadata": {},
   "outputs": [
    {
     "data": {
      "text/plain": [
       "120"
      ]
     },
     "execution_count": 2,
     "metadata": {},
     "output_type": "execute_result"
    }
   ],
   "source": [
    "def multiply(*nums):\n",
    "    result = 1\n",
    "    for num in nums:\n",
    "        result *= num\n",
    "    return result\n",
    "\n",
    "multiply(2, 3)\n",
    "multiply(2, 3, 4, 5)"
   ]
  },
  {
   "cell_type": "code",
   "execution_count": 3,
   "id": "2835b0de",
   "metadata": {},
   "outputs": [
    {
     "name": "stdout",
     "output_type": "stream",
     "text": [
      "name: Alice\n",
      "age: 30\n",
      "country: Canada\n"
     ]
    }
   ],
   "source": [
    "def print_user(**info):\n",
    "    for key, value in info.items():\n",
    "        print(f\"{key}: {value}\")\n",
    "\n",
    "print_user(name=\"Alice\", age=30, country=\"Canada\")"
   ]
  },
  {
   "cell_type": "markdown",
   "id": "d111cd2c",
   "metadata": {},
   "source": [
    "# first order function----> contain three sub functions like \n",
    "# 1. Assign function to a variable\n",
    "# 2. pass a function as a parameter\n",
    "# 3. return a function from another function "
   ]
  },
  {
   "cell_type": "code",
   "execution_count": null,
   "id": "ae1d66c1",
   "metadata": {},
   "outputs": [],
   "source": [
    "# 1. Assign function to a variable\n"
   ]
  },
  {
   "cell_type": "code",
   "execution_count": 9,
   "id": "7008b3fb",
   "metadata": {},
   "outputs": [
    {
     "name": "stdout",
     "output_type": "stream",
     "text": [
      "Hello!\n"
     ]
    }
   ],
   "source": [
    "\n",
    "\n",
    "def greet():\n",
    "    return \"Hello!\"\n",
    "\n",
    "say_hello = greet  # Assign function to a variable\n",
    "print(say_hello())  # Outputs: Hello!"
   ]
  },
  {
   "cell_type": "code",
   "execution_count": null,
   "id": "c13c511d",
   "metadata": {},
   "outputs": [],
   "source": [
    "# 2. pass a function as a parameter\n"
   ]
  },
  {
   "cell_type": "code",
   "execution_count": null,
   "id": "8c869c26",
   "metadata": {},
   "outputs": [
    {
     "name": "stdout",
     "output_type": "stream",
     "text": [
      "Hello, Alice!\n"
     ]
    }
   ],
   "source": [
    "\n",
    "def greet(name):\n",
    "    return f\"Hello, {name}!\"\n",
    "\n",
    "def welcome(func, user):\n",
    "    return func(user)\n",
    "\n",
    "print(welcome(greet, \"Alice\"))"
   ]
  },
  {
   "cell_type": "code",
   "execution_count": 5,
   "id": "1adb807b",
   "metadata": {},
   "outputs": [
    {
     "name": "stdout",
     "output_type": "stream",
     "text": [
      "8\n",
      "2\n"
     ]
    }
   ],
   "source": [
    "def add(x, y):\n",
    "    return x + y\n",
    "\n",
    "def subtract(x, y):\n",
    "    return x - y\n",
    "\n",
    "def operate(func, a, b):\n",
    "    return func(a, b)\n",
    "\n",
    "print(operate(add, 5, 3))      # 8\n",
    "print(operate(subtract, 5, 3))"
   ]
  },
  {
   "cell_type": "code",
   "execution_count": null,
   "id": "b4c5786d",
   "metadata": {},
   "outputs": [],
   "source": [
    "# 3. return a function from another function "
   ]
  },
  {
   "cell_type": "code",
   "execution_count": 6,
   "id": "d3401816",
   "metadata": {},
   "outputs": [
    {
     "name": "stdout",
     "output_type": "stream",
     "text": [
      "Hello!\n"
     ]
    }
   ],
   "source": [
    "def greet_creator():\n",
    "    def say_hello():\n",
    "        return \"Hello!\"\n",
    "    return say_hello\n",
    "\n",
    "# Call the outer function\n",
    "greet = greet_creator()\n",
    "\n",
    "# Now call the returned function\n",
    "print(greet())  # Output: Hello!"
   ]
  },
  {
   "cell_type": "markdown",
   "id": "e7e33cf6",
   "metadata": {},
   "source": [
    "# High order function"
   ]
  },
  {
   "cell_type": "code",
   "execution_count": 10,
   "id": "aac0e523",
   "metadata": {},
   "outputs": [
    {
     "name": "stdout",
     "output_type": "stream",
     "text": [
      "HELLO\n",
      "hello\n"
     ]
    }
   ],
   "source": [
    "# Example 1: Takes a function as an argument\n",
    "\n",
    "def shout(text):\n",
    "    return text.upper()\n",
    "\n",
    "def whisper(text):\n",
    "    return text.lower()\n",
    "\n",
    "def speak(style_func, message):\n",
    "    return style_func(message)\n",
    "\n",
    "print(speak(shout, \"hello\"))   # HELLO\n",
    "print(speak(whisper, \"HELLO\")) # hello"
   ]
  },
  {
   "cell_type": "markdown",
   "id": "56c50e96",
   "metadata": {},
   "source": [
    "Lambda functions => lambda funcitons are anonymus functions which are use instead of a block of code like functions in which we dont want to define the whole function . it is one line code\n",
    "\n",
    "mainly we use it with map and filter functions"
   ]
  },
  {
   "cell_type": "code",
   "execution_count": null,
   "id": "624e7266",
   "metadata": {},
   "outputs": [],
   "source": [
    "# variable name = lambda expression and parameter thats it "
   ]
  },
  {
   "cell_type": "code",
   "execution_count": 11,
   "id": "893cf9e8",
   "metadata": {},
   "outputs": [
    {
     "data": {
      "text/plain": [
       "16"
      ]
     },
     "execution_count": 11,
     "metadata": {},
     "output_type": "execute_result"
    }
   ],
   "source": [
    "square = lambda x: x**2\n",
    "\n",
    "square(4)"
   ]
  },
  {
   "cell_type": "code",
   "execution_count": null,
   "id": "5bf45eec",
   "metadata": {},
   "outputs": [],
   "source": [
    "\n"
   ]
  },
  {
   "cell_type": "code",
   "execution_count": null,
   "id": "00369a08",
   "metadata": {},
   "outputs": [],
   "source": [
    "# map function=>map is basically like for loop it is used it itrate the function like list tuple etc\n",
    "# map and filter particular elements pe apply hote ha jiske karan ye memory me sara data store nhi karte"
   ]
  },
  {
   "cell_type": "code",
   "execution_count": null,
   "id": "aa513a91",
   "metadata": {},
   "outputs": [],
   "source": [
    "# map = har ek iterable value ke uper logic apply karna"
   ]
  },
  {
   "cell_type": "code",
   "execution_count": 14,
   "id": "4d9604f9",
   "metadata": {},
   "outputs": [
    {
     "data": {
      "text/plain": [
       "15"
      ]
     },
     "execution_count": 14,
     "metadata": {},
     "output_type": "execute_result"
    }
   ],
   "source": [
    "mylist = [10,34,23,40]\n",
    "u1 = map(lambda x: x+5,mylist)\n",
    "next(u1)\n"
   ]
  },
  {
   "cell_type": "code",
   "execution_count": 15,
   "id": "d7e954a4",
   "metadata": {},
   "outputs": [
    {
     "data": {
      "text/plain": [
       "39"
      ]
     },
     "execution_count": 15,
     "metadata": {},
     "output_type": "execute_result"
    }
   ],
   "source": [
    "next(u1)"
   ]
  },
  {
   "cell_type": "code",
   "execution_count": 16,
   "id": "591ec64f",
   "metadata": {},
   "outputs": [
    {
     "data": {
      "text/plain": [
       "True"
      ]
     },
     "execution_count": 16,
     "metadata": {},
     "output_type": "execute_result"
    }
   ],
   "source": [
    "mylist = [10,34,23,40]\n",
    "u1 = map(lambda x: x%2==0,mylist)\n",
    "next(u1)\n"
   ]
  },
  {
   "cell_type": "code",
   "execution_count": 17,
   "id": "2753c3c1",
   "metadata": {},
   "outputs": [
    {
     "data": {
      "text/plain": [
       "True"
      ]
     },
     "execution_count": 17,
     "metadata": {},
     "output_type": "execute_result"
    }
   ],
   "source": [
    "next(u1)"
   ]
  },
  {
   "cell_type": "markdown",
   "id": "4633f10a",
   "metadata": {},
   "source": [
    "because == is a comparison operator"
   ]
  },
  {
   "cell_type": "code",
   "execution_count": null,
   "id": "e13a3492",
   "metadata": {},
   "outputs": [],
   "source": [
    "# if we want that value which is divide by 2 then we use filter"
   ]
  },
  {
   "cell_type": "code",
   "execution_count": 18,
   "id": "48bc086a",
   "metadata": {},
   "outputs": [
    {
     "data": {
      "text/plain": [
       "10"
      ]
     },
     "execution_count": 18,
     "metadata": {},
     "output_type": "execute_result"
    }
   ],
   "source": [
    "mylist = [10,34,23,40]\n",
    "u1 = filter(lambda x: x+5,mylist)\n",
    "next(u1)\n"
   ]
  },
  {
   "cell_type": "markdown",
   "id": "e2697437",
   "metadata": {},
   "source": [
    "Generators and decorators"
   ]
  },
  {
   "cell_type": "code",
   "execution_count": null,
   "id": "70fb0967",
   "metadata": {},
   "outputs": [],
   "source": [
    "# Generators\n"
   ]
  }
 ],
 "metadata": {
  "kernelspec": {
   "display_name": "base",
   "language": "python",
   "name": "python3"
  },
  "language_info": {
   "codemirror_mode": {
    "name": "ipython",
    "version": 3
   },
   "file_extension": ".py",
   "mimetype": "text/x-python",
   "name": "python",
   "nbconvert_exporter": "python",
   "pygments_lexer": "ipython3",
   "version": "3.12.7"
  }
 },
 "nbformat": 4,
 "nbformat_minor": 5
}

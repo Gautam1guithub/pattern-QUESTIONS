{
  "nbformat": 4,
  "nbformat_minor": 0,
  "metadata": {
    "colab": {
      "provenance": []
    },
    "kernelspec": {
      "name": "python3",
      "display_name": "Python 3"
    },
    "language_info": {
      "name": "python"
    }
  },
  "cells": [
    {
      "cell_type": "code",
      "execution_count": null,
      "metadata": {
        "colab": {
          "base_uri": "https://localhost:8080/"
        },
        "id": "dlCaUBpbPKQJ",
        "outputId": "9e943800-094a-4a9d-b5c8-fc0f1abcf4ef"
      },
      "outputs": [
        {
          "output_type": "stream",
          "name": "stdout",
          "text": [
            "*\n",
            "**\n",
            "***\n",
            "****\n",
            "*****\n"
          ]
        }
      ],
      "source": [
        "for i in range(1,6):\n",
        " print(i*\"*\")"
      ]
    },
    {
      "cell_type": "markdown",
      "source": [
        "floyd's triangle"
      ],
      "metadata": {
        "id": "g2NjO0tHRWCE"
      }
    },
    {
      "cell_type": "code",
      "source": [
        "n=5\n",
        "num=1\n",
        "for i in range(1,n+1):\n",
        "  for j in range(i):\n",
        "    print(num,end=\" \")\n",
        "    num+=1\n",
        "  print()"
      ],
      "metadata": {
        "colab": {
          "base_uri": "https://localhost:8080/"
        },
        "id": "BdxD3dl9RLGw",
        "outputId": "596d70e7-1dd9-479b-cded-efe50ad06989"
      },
      "execution_count": null,
      "outputs": [
        {
          "output_type": "stream",
          "name": "stdout",
          "text": [
            "1 \n",
            "2 3 \n",
            "4 5 6 \n",
            "7 8 9 10 \n",
            "11 12 13 14 15 \n"
          ]
        }
      ]
    },
    {
      "cell_type": "code",
      "source": [
        "for i in range(1,8):\n",
        "  for j in range(1,6):\n",
        "    if j==1 or j==5 or i==1 or i==7:\n",
        "      print(\"*\",end=\" \")\n",
        "    else:\n",
        "      print(\" \",end=\" \")\n",
        "  print(\"\")"
      ],
      "metadata": {
        "colab": {
          "base_uri": "https://localhost:8080/"
        },
        "id": "IPgq8nCPR-nr",
        "outputId": "35654fa0-021d-44ed-b743-50eef9d2f52a"
      },
      "execution_count": null,
      "outputs": [
        {
          "output_type": "stream",
          "name": "stdout",
          "text": [
            "* * * * * \n",
            "*       * \n",
            "*       * \n",
            "*       * \n",
            "*       * \n",
            "*       * \n",
            "* * * * * \n"
          ]
        }
      ]
    },
    {
      "cell_type": "code",
      "source": [
        "for j in range(1,6):\n",
        "  for j in range()"
      ],
      "metadata": {
        "id": "r1s4gV7qTDee"
      },
      "execution_count": null,
      "outputs": []
    },
    {
      "cell_type": "code",
      "source": [
        "for i in range(1,6):\n",
        "  print(i*\"*\")\n",
        "  for j in range()"
      ],
      "metadata": {
        "colab": {
          "base_uri": "https://localhost:8080/"
        },
        "id": "-zTXR5AQYZ9s",
        "outputId": "2d140e17-f7e9-43ad-d9fb-62c3c29bf7eb"
      },
      "execution_count": null,
      "outputs": [
        {
          "output_type": "stream",
          "name": "stdout",
          "text": [
            "*\n",
            "**\n",
            "***\n",
            "****\n",
            "*****\n",
            "****\n",
            "***\n",
            "**\n",
            "*\n"
          ]
        }
      ]
    },
    {
      "cell_type": "code",
      "source": [
        "n= = 5 # change n for a biger or smaller patter\n",
        "\n",
        "# upper half\n",
        "for i in range(1,n+1):   # controls the number of rows(reverse)"
      ],
      "metadata": {
        "id": "9QtoPh1MZN14"
      },
      "execution_count": null,
      "outputs": []
    },
    {
      "cell_type": "code",
      "source": [
        "for i in range(1,6):\n",
        "  for j in range(i,6):\n",
        "    print(\"*\",end=\"\")\n",
        "  print(\"\")"
      ],
      "metadata": {
        "colab": {
          "base_uri": "https://localhost:8080/"
        },
        "id": "1syoFGC4hJCT",
        "outputId": "e46bad5a-d19b-4a49-8300-63dcb21009b5"
      },
      "execution_count": null,
      "outputs": [
        {
          "output_type": "stream",
          "name": "stdout",
          "text": [
            "*****\n",
            "****\n",
            "***\n",
            "**\n",
            "*\n"
          ]
        }
      ]
    },
    {
      "cell_type": "code",
      "source": [
        "for i in range(1,6):\n",
        "  for j in range(i,6):\n",
        "    print(j,end=\" \")\n",
        "  print(\"\")"
      ],
      "metadata": {
        "colab": {
          "base_uri": "https://localhost:8080/"
        },
        "id": "09HbU7JOhog9",
        "outputId": "365e359d-5686-474a-cc91-3996933ed8df"
      },
      "execution_count": null,
      "outputs": [
        {
          "output_type": "stream",
          "name": "stdout",
          "text": [
            "1 2 3 4 5 \n",
            "2 3 4 5 \n",
            "3 4 5 \n",
            "4 5 \n",
            "5 \n"
          ]
        }
      ]
    },
    {
      "cell_type": "code",
      "source": [
        "num=5\n",
        "n=10\n",
        "for i in range(num):\n",
        "  for j in range(num-i):\n",
        "    print(n,end=\" \")\n",
        "    n=n+1\n",
        "  print(\"\")"
      ],
      "metadata": {
        "colab": {
          "base_uri": "https://localhost:8080/"
        },
        "id": "5g_nR-rwiCdp",
        "outputId": "a4508ecd-086d-4c6c-f449-9fb0d77b4437"
      },
      "execution_count": null,
      "outputs": [
        {
          "output_type": "stream",
          "name": "stdout",
          "text": [
            "10 11 12 13 14 \n",
            "15 16 17 18 \n",
            "19 20 21 \n",
            "22 23 \n",
            "24 \n"
          ]
        }
      ]
    },
    {
      "cell_type": "code",
      "source": [
        "n=5\n",
        "for i in range(n):\n",
        "  for j in range(n-i):\n",
        "    if j==0 or j==2 or j==4:\n",
        "      print(1,end=\" \")\n",
        "    else:\n",
        "      print(0,end=\" \")\n",
        "  print(\"\")"
      ],
      "metadata": {
        "colab": {
          "base_uri": "https://localhost:8080/"
        },
        "id": "k740Kz_fjSM9",
        "outputId": "73fc7e3f-1b42-47df-8e26-e06027723b22"
      },
      "execution_count": null,
      "outputs": [
        {
          "output_type": "stream",
          "name": "stdout",
          "text": [
            "1 0 1 0 1 \n",
            "1 0 1 0 \n",
            "1 0 1 \n",
            "1 0 \n",
            "1 \n"
          ]
        }
      ]
    },
    {
      "cell_type": "code",
      "source": [
        "10101\n",
        "2020\n",
        "303\n",
        "40"
      ],
      "metadata": {
        "id": "rMMScanqnTVB"
      },
      "execution_count": null,
      "outputs": []
    },
    {
      "cell_type": "code",
      "source": [
        "n=5\n",
        "num=1\n",
        "for i in range(n):\n",
        "  for j in range(n-i):\n",
        "    if j==0 or j==2 or j==4:\n",
        "      print(num,end=\" \")\n",
        "\n",
        "    else:\n",
        "      print(0,end=\" \")\n",
        "  print(\"\")\n",
        "  num+=1"
      ],
      "metadata": {
        "colab": {
          "base_uri": "https://localhost:8080/"
        },
        "id": "Jrx_ZqeinGiu",
        "outputId": "c09637c4-b82d-429e-c522-569e1af56ba0"
      },
      "execution_count": null,
      "outputs": [
        {
          "output_type": "stream",
          "name": "stdout",
          "text": [
            "1 0 1 0 1 \n",
            "2 0 2 0 \n",
            "3 0 3 \n",
            "4 0 \n",
            "5 \n"
          ]
        }
      ]
    },
    {
      "cell_type": "code",
      "source": [
        "n=5\n",
        "for i in range(n):\n",
        "  for j in range(n-i):\n",
        "    print(\"*\",end=\" \")\n",
        "  print(\"\")"
      ],
      "metadata": {
        "colab": {
          "base_uri": "https://localhost:8080/"
        },
        "id": "wgkYRK5uphFC",
        "outputId": "bcb5d625-2f42-49d6-bcdb-ac9c29bc1a5c"
      },
      "execution_count": null,
      "outputs": [
        {
          "output_type": "stream",
          "name": "stdout",
          "text": [
            "* * * * * \n",
            "* * * * \n",
            "* * * \n",
            "* * \n",
            "* \n"
          ]
        }
      ]
    },
    {
      "cell_type": "code",
      "source": [
        "for i in range(1,6):\n",
        "  for j in range(1,i+1):\n",
        "    print(\" \",end=\" \")\n",
        "  for k in range(i,6):\n",
        "    if k==i or k==5 or i==1 :\n",
        "      print(\"*\",end=\" \")\n",
        "    else:\n",
        "      print(\" \",end=\" \")\n",
        "  print(\"\")"
      ],
      "metadata": {
        "colab": {
          "base_uri": "https://localhost:8080/"
        },
        "id": "iLSAHyNdrBy1",
        "outputId": "96097a0b-4b82-47cc-c7e0-5557f4772f29"
      },
      "execution_count": null,
      "outputs": [
        {
          "output_type": "stream",
          "name": "stdout",
          "text": [
            "  * * * * * \n",
            "    *     * \n",
            "      *   * \n",
            "        * * \n",
            "          * \n"
          ]
        }
      ]
    },
    {
      "cell_type": "code",
      "source": [
        "for i in range(1,4):\n",
        "  for j in range(i,3):\n",
        "    print(\" \",end=\"\")\n",
        "  for k in range(1,(2*i)):\n",
        "    print(\"*\",end=\"\")\n",
        "\n",
        "  print(\"\")"
      ],
      "metadata": {
        "colab": {
          "base_uri": "https://localhost:8080/"
        },
        "id": "GO8xP1kU_RO4",
        "outputId": "f58acdec-baf8-4d1c-e1cc-d904065543e6"
      },
      "execution_count": null,
      "outputs": [
        {
          "output_type": "stream",
          "name": "stdout",
          "text": [
            "  *\n",
            " ***\n",
            "*****\n"
          ]
        }
      ]
    },
    {
      "cell_type": "code",
      "source": [
        "for i in range(1,5):\n",
        "  for j in range(1,i+1):\n",
        "    print(\" \",end=\"\")\n",
        "  for k in range(i,5):\n",
        "    print(\"*\",end=\" \")\n",
        "  print(\"\")"
      ],
      "metadata": {
        "colab": {
          "base_uri": "https://localhost:8080/"
        },
        "id": "Q_BFXLCXAhuh",
        "outputId": "ed87994b-1566-4aca-acd4-069e2c2f28a9"
      },
      "execution_count": null,
      "outputs": [
        {
          "output_type": "stream",
          "name": "stdout",
          "text": [
            " * * * * \n",
            "  * * * \n",
            "   * * \n",
            "    * \n"
          ]
        }
      ]
    },
    {
      "cell_type": "code",
      "source": [
        "# list\n",
        "# collection of elements  => mutiple type\n",
        "# mutable  # index position\n",
        "\n"
      ],
      "metadata": {
        "id": "fKhRkcbRB1us"
      },
      "execution_count": null,
      "outputs": []
    },
    {
      "cell_type": "code",
      "source": [
        "list2 = [10,20,60,80,9]\n",
        "for i in range(0,len(list2)):\n",
        "  for j in range(i+1,len(list2)):\n",
        "    if (list2[i]<list2[j]):\n",
        "      list2[i],list2[j]=list2[j],list2[i]\n",
        "print(list2)\n"
      ],
      "metadata": {
        "colab": {
          "base_uri": "https://localhost:8080/"
        },
        "id": "Z0x2hFVDFkpV",
        "outputId": "5dc0b2b4-9031-4d3a-d125-2125204902f3"
      },
      "execution_count": null,
      "outputs": [
        {
          "output_type": "stream",
          "name": "stdout",
          "text": [
            "[80, 60, 20, 10, 9]\n"
          ]
        }
      ]
    },
    {
      "cell_type": "code",
      "source": [
        "# best time to buy and sell the stock"
      ],
      "metadata": {
        "id": "FCyLpCI4GRMY"
      },
      "execution_count": null,
      "outputs": []
    },
    {
      "cell_type": "code",
      "source": [
        "max_profit = 0\n",
        "prices =[7,1,5,3,6,4]\n",
        "for i in range(0,len(prices)):\n",
        "  for j in range(i+1,len(prices)):\n",
        "    if prices[j]-prices[i]>max_profit:\n",
        "      max_profit = prices[j]-prices[i]\n",
        "print(max_profit)\n",
        "\n"
      ],
      "metadata": {
        "colab": {
          "base_uri": "https://localhost:8080/"
        },
        "id": "m5hoEa9cHD_3",
        "outputId": "e4bf7867-3886-4fd9-c028-f3c7fc74d435"
      },
      "execution_count": null,
      "outputs": [
        {
          "output_type": "stream",
          "name": "stdout",
          "text": [
            "5\n"
          ]
        }
      ]
    },
    {
      "cell_type": "code",
      "source": [
        "## if you have a list and short that list by one loop\n",
        "## two sum problem\n",
        "## plus one\n",
        "##  you have beeen given two list having same number of elements and you have to merge both the list by removing the duplicate elements but with a single loop but do not use zip and enamurate function"
      ],
      "metadata": {
        "id": "nlokCwQhJzeb"
      },
      "execution_count": null,
      "outputs": []
    },
    {
      "cell_type": "code",
      "source": [
        "list1 = [10,45,30,50,20,60]\n",
        "for i in range(0,len(list1)):\n",
        "  if\n",
        ""
      ],
      "metadata": {
        "id": "zTPzJCoBr6BU"
      },
      "execution_count": null,
      "outputs": []
    },
    {
      "cell_type": "code",
      "source": [
        "lst = [64, 34, 25, 12, 22, 11, 45, 90]\n",
        "\n",
        "n=len(lst)\n",
        "i=0\n",
        "while i < n-1:\n",
        "  j=0\n",
        "  while j < n-i-1:\n",
        "    if lst[j]>lst[j+1]:\n",
        "      lst[j],lst[j+1] = lst[j+1],lst[j]\n",
        "    j+=1\n",
        "  i+=1\n",
        "\n",
        "print(lst)\n",
        "\n",
        "\n"
      ],
      "metadata": {
        "colab": {
          "base_uri": "https://localhost:8080/"
        },
        "id": "iy5v58o86CXX",
        "outputId": "b72571af-591d-4792-f812-35d209e1b4e4"
      },
      "execution_count": 8,
      "outputs": [
        {
          "output_type": "stream",
          "name": "stdout",
          "text": [
            "[11, 12, 22, 25, 34, 45, 64, 90]\n"
          ]
        }
      ]
    },
    {
      "cell_type": "code",
      "source": [
        "## Two sum problem\n",
        "lst = [2,3,6,7,5]\n",
        "target = 9\n",
        "for i in range(len(lst)):\n",
        "  for j in range(i+1,len(lst)):\n",
        "    if lst[i]+lst[j] == target:\n",
        "      print(lst[i],lst[j])\n",
        "\n"
      ],
      "metadata": {
        "colab": {
          "base_uri": "https://localhost:8080/"
        },
        "id": "pEGA_YdrFqOE",
        "outputId": "da58723d-6ad3-4ce3-be11-c4cef24463a3"
      },
      "execution_count": 9,
      "outputs": [
        {
          "output_type": "stream",
          "name": "stdout",
          "text": [
            "2 7\n",
            "3 6\n"
          ]
        }
      ]
    },
    {
      "cell_type": "code",
      "source": [
        "##  you have been given two list having same number of elements and you have to merge both the list by removing the duplicate elements but with a single loop but do not use zip and enamurate function"
      ],
      "metadata": {
        "id": "r-LD1hp7HKL4"
      },
      "execution_count": null,
      "outputs": []
    },
    {
      "cell_type": "code",
      "source": [
        "lst1 = [10,20,30,40,50]\n",
        "lst2 = [30,40,50,60,70]\n",
        "\n",
        "merge_list = lst1+[item for item in lst2 if item not in lst1]\n",
        "print(merge_list)\n"
      ],
      "metadata": {
        "colab": {
          "base_uri": "https://localhost:8080/"
        },
        "id": "tNfB-918H9r1",
        "outputId": "e6fa68e2-3746-4993-f129-5172b41ebae3"
      },
      "execution_count": 1,
      "outputs": [
        {
          "output_type": "stream",
          "name": "stdout",
          "text": [
            "[10, 20, 30, 40, 50, 60, 70]\n"
          ]
        }
      ]
    },
    {
      "cell_type": "code",
      "source": [],
      "metadata": {
        "id": "UUjPcs5decmB"
      },
      "execution_count": null,
      "outputs": []
    }
  ]
}
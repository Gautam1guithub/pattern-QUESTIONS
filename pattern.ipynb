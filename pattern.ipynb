{
  "cells": [
    {
      "cell_type": "code",
      "execution_count": null,
      "metadata": {
        "colab": {
          "base_uri": "https://localhost:8080/"
        },
        "id": "dlCaUBpbPKQJ",
        "outputId": "9e943800-094a-4a9d-b5c8-fc0f1abcf4ef"
      },
      "outputs": [
        {
          "name": "stdout",
          "output_type": "stream",
          "text": [
            "*\n",
            "**\n",
            "***\n",
            "****\n",
            "*****\n"
          ]
        }
      ],
      "source": [
        "for i in range(1,6):\n",
        " print(i*\"*\")"
      ]
    },
    {
      "cell_type": "markdown",
      "metadata": {
        "id": "g2NjO0tHRWCE"
      },
      "source": [
        "floyd's triangle"
      ]
    },
    {
      "cell_type": "code",
      "execution_count": null,
      "metadata": {
        "colab": {
          "base_uri": "https://localhost:8080/"
        },
        "id": "BdxD3dl9RLGw",
        "outputId": "596d70e7-1dd9-479b-cded-efe50ad06989"
      },
      "outputs": [
        {
          "name": "stdout",
          "output_type": "stream",
          "text": [
            "1 \n",
            "2 3 \n",
            "4 5 6 \n",
            "7 8 9 10 \n",
            "11 12 13 14 15 \n"
          ]
        }
      ],
      "source": [
        "n=5\n",
        "num=1\n",
        "for i in range(1,n+1):\n",
        "  for j in range(i):\n",
        "    print(num,end=\" \")\n",
        "    num+=1\n",
        "  print()"
      ]
    },
    {
      "cell_type": "code",
      "execution_count": null,
      "metadata": {
        "colab": {
          "base_uri": "https://localhost:8080/"
        },
        "id": "IPgq8nCPR-nr",
        "outputId": "35654fa0-021d-44ed-b743-50eef9d2f52a"
      },
      "outputs": [
        {
          "name": "stdout",
          "output_type": "stream",
          "text": [
            "* * * * * \n",
            "*       * \n",
            "*       * \n",
            "*       * \n",
            "*       * \n",
            "*       * \n",
            "* * * * * \n"
          ]
        }
      ],
      "source": [
        "for i in range(1,8):\n",
        "  for j in range(1,6):\n",
        "    if j==1 or j==5 or i==1 or i==7:\n",
        "      print(\"*\",end=\" \")\n",
        "    else:\n",
        "      print(\" \",end=\" \")\n",
        "  print(\"\")"
      ]
    },
    {
      "cell_type": "code",
      "execution_count": null,
      "metadata": {
        "id": "r1s4gV7qTDee"
      },
      "outputs": [],
      "source": [
        "for j in range(1,6):\n",
        "  for j in range()"
      ]
    },
    {
      "cell_type": "code",
      "execution_count": null,
      "metadata": {
        "colab": {
          "base_uri": "https://localhost:8080/"
        },
        "id": "-zTXR5AQYZ9s",
        "outputId": "2d140e17-f7e9-43ad-d9fb-62c3c29bf7eb"
      },
      "outputs": [
        {
          "name": "stdout",
          "output_type": "stream",
          "text": [
            "*\n",
            "**\n",
            "***\n",
            "****\n",
            "*****\n",
            "****\n",
            "***\n",
            "**\n",
            "*\n"
          ]
        }
      ],
      "source": [
        "for i in range(1,6):\n",
        "  print(i*\"*\")\n",
        "  for j in range()"
      ]
    },
    {
      "cell_type": "code",
      "execution_count": null,
      "metadata": {
        "id": "9QtoPh1MZN14"
      },
      "outputs": [],
      "source": [
        "n= = 5 # change n for a biger or smaller patter\n",
        "\n",
        "# upper half\n",
        "for i in range(1,n+1):   # controls the number of rows(reverse)"
      ]
    },
    {
      "cell_type": "code",
      "execution_count": null,
      "metadata": {
        "colab": {
          "base_uri": "https://localhost:8080/"
        },
        "id": "1syoFGC4hJCT",
        "outputId": "e46bad5a-d19b-4a49-8300-63dcb21009b5"
      },
      "outputs": [
        {
          "name": "stdout",
          "output_type": "stream",
          "text": [
            "*****\n",
            "****\n",
            "***\n",
            "**\n",
            "*\n"
          ]
        }
      ],
      "source": [
        "for i in range(1,6):\n",
        "  for j in range(i,6):\n",
        "    print(\"*\",end=\"\")\n",
        "  print(\"\")"
      ]
    },
    {
      "cell_type": "code",
      "execution_count": null,
      "metadata": {
        "colab": {
          "base_uri": "https://localhost:8080/"
        },
        "id": "09HbU7JOhog9",
        "outputId": "365e359d-5686-474a-cc91-3996933ed8df"
      },
      "outputs": [
        {
          "name": "stdout",
          "output_type": "stream",
          "text": [
            "1 2 3 4 5 \n",
            "2 3 4 5 \n",
            "3 4 5 \n",
            "4 5 \n",
            "5 \n"
          ]
        }
      ],
      "source": [
        "for i in range(1,6):\n",
        "  for j in range(i,6):\n",
        "    print(j,end=\" \")\n",
        "  print(\"\")"
      ]
    },
    {
      "cell_type": "code",
      "execution_count": null,
      "metadata": {
        "colab": {
          "base_uri": "https://localhost:8080/"
        },
        "id": "5g_nR-rwiCdp",
        "outputId": "a4508ecd-086d-4c6c-f449-9fb0d77b4437"
      },
      "outputs": [
        {
          "name": "stdout",
          "output_type": "stream",
          "text": [
            "10 11 12 13 14 \n",
            "15 16 17 18 \n",
            "19 20 21 \n",
            "22 23 \n",
            "24 \n"
          ]
        }
      ],
      "source": [
        "num=5\n",
        "n=10\n",
        "for i in range(num):\n",
        "  for j in range(num-i):\n",
        "    print(n,end=\" \")\n",
        "    n=n+1\n",
        "  print(\"\")"
      ]
    },
    {
      "cell_type": "code",
      "execution_count": null,
      "metadata": {
        "colab": {
          "base_uri": "https://localhost:8080/"
        },
        "id": "k740Kz_fjSM9",
        "outputId": "73fc7e3f-1b42-47df-8e26-e06027723b22"
      },
      "outputs": [
        {
          "name": "stdout",
          "output_type": "stream",
          "text": [
            "1 0 1 0 1 \n",
            "1 0 1 0 \n",
            "1 0 1 \n",
            "1 0 \n",
            "1 \n"
          ]
        }
      ],
      "source": [
        "n=5\n",
        "for i in range(n):\n",
        "  for j in range(n-i):\n",
        "    if j==0 or j==2 or j==4:\n",
        "      print(1,end=\" \")\n",
        "    else:\n",
        "      print(0,end=\" \")\n",
        "  print(\"\")"
      ]
    },
    {
      "cell_type": "code",
      "execution_count": null,
      "metadata": {
        "id": "rMMScanqnTVB"
      },
      "outputs": [],
      "source": [
        "10101\n",
        "2020\n",
        "303\n",
        "40"
      ]
    },
    {
      "cell_type": "code",
      "execution_count": null,
      "metadata": {
        "colab": {
          "base_uri": "https://localhost:8080/"
        },
        "id": "Jrx_ZqeinGiu",
        "outputId": "c09637c4-b82d-429e-c522-569e1af56ba0"
      },
      "outputs": [
        {
          "name": "stdout",
          "output_type": "stream",
          "text": [
            "1 0 1 0 1 \n",
            "2 0 2 0 \n",
            "3 0 3 \n",
            "4 0 \n",
            "5 \n"
          ]
        }
      ],
      "source": [
        "n=5\n",
        "num=1\n",
        "for i in range(n):\n",
        "  for j in range(n-i):\n",
        "    if j==0 or j==2 or j==4:\n",
        "      print(num,end=\" \")\n",
        "\n",
        "    else:\n",
        "      print(0,end=\" \")\n",
        "  print(\"\")\n",
        "  num+=1"
      ]
    },
    {
      "cell_type": "code",
      "execution_count": null,
      "metadata": {
        "colab": {
          "base_uri": "https://localhost:8080/"
        },
        "id": "wgkYRK5uphFC",
        "outputId": "bcb5d625-2f42-49d6-bcdb-ac9c29bc1a5c"
      },
      "outputs": [
        {
          "name": "stdout",
          "output_type": "stream",
          "text": [
            "* * * * * \n",
            "* * * * \n",
            "* * * \n",
            "* * \n",
            "* \n"
          ]
        }
      ],
      "source": [
        "n=5\n",
        "for i in range(n):\n",
        "  for j in range(n-i):\n",
        "    print(\"*\",end=\" \")\n",
        "  print(\"\")"
      ]
    },
    {
      "cell_type": "code",
      "execution_count": null,
      "metadata": {
        "colab": {
          "base_uri": "https://localhost:8080/"
        },
        "id": "iLSAHyNdrBy1",
        "outputId": "96097a0b-4b82-47cc-c7e0-5557f4772f29"
      },
      "outputs": [
        {
          "name": "stdout",
          "output_type": "stream",
          "text": [
            "  * * * * * \n",
            "    *     * \n",
            "      *   * \n",
            "        * * \n",
            "          * \n"
          ]
        }
      ],
      "source": [
        "for i in range(1,6):\n",
        "  for j in range(1,i+1):\n",
        "    print(\" \",end=\" \")\n",
        "  for k in range(i,6):\n",
        "    if k==i or k==5 or i==1 :\n",
        "      print(\"*\",end=\" \")\n",
        "    else:\n",
        "      print(\" \",end=\" \")\n",
        "  print(\"\")"
      ]
    },
    {
      "cell_type": "code",
      "execution_count": null,
      "metadata": {
        "colab": {
          "base_uri": "https://localhost:8080/"
        },
        "id": "GO8xP1kU_RO4",
        "outputId": "f58acdec-baf8-4d1c-e1cc-d904065543e6"
      },
      "outputs": [
        {
          "name": "stdout",
          "output_type": "stream",
          "text": [
            "  *\n",
            " ***\n",
            "*****\n"
          ]
        }
      ],
      "source": [
        "for i in range(1,4):\n",
        "  for j in range(i,3):\n",
        "    print(\" \",end=\"\")\n",
        "  for k in range(1,(2*i)):\n",
        "    print(\"*\",end=\"\")\n",
        "\n",
        "  print(\"\")"
      ]
    },
    {
      "cell_type": "code",
      "execution_count": null,
      "metadata": {
        "colab": {
          "base_uri": "https://localhost:8080/"
        },
        "id": "Q_BFXLCXAhuh",
        "outputId": "ed87994b-1566-4aca-acd4-069e2c2f28a9"
      },
      "outputs": [
        {
          "name": "stdout",
          "output_type": "stream",
          "text": [
            " * * * * \n",
            "  * * * \n",
            "   * * \n",
            "    * \n"
          ]
        }
      ],
      "source": [
        "for i in range(1,5):\n",
        "  for j in range(1,i+1):\n",
        "    print(\" \",end=\"\")\n",
        "  for k in range(i,5):\n",
        "    print(\"*\",end=\" \")\n",
        "  print(\"\")"
      ]
    },
    {
      "cell_type": "code",
      "execution_count": null,
      "metadata": {
        "id": "fKhRkcbRB1us"
      },
      "outputs": [],
      "source": [
        "list \n",
        "# collectionn of elements\n",
        "# mutable index postion\n",
        "# string is a iterable\n",
        "# pop ,remove \n",
        "# pop = remove last element from list\n",
        "# remove = remove first occurence of element from list\n"
      ]
    },
    {
      "cell_type": "code",
      "execution_count": null,
      "metadata": {
        "colab": {
          "base_uri": "https://localhost:8080/"
        },
        "id": "Z0x2hFVDFkpV",
        "outputId": "5dc0b2b4-9031-4d3a-d125-2125204902f3"
      },
      "outputs": [
        {
          "name": "stdout",
          "output_type": "stream",
          "text": [
            "[80, 60, 20, 10, 9]\n"
          ]
        }
      ],
      "source": [
        "list2 = [10,20,60,80,9]\n",
        "for i in range(0,len(list2)):\n",
        "  for j in range(i+1,len(list2)):\n",
        "    if (list2[i]<list2[j]):\n",
        "      list2[i],list2[j]=list2[j],list2[i]\n",
        "print(list2)\n"
      ]
    },
    {
      "cell_type": "code",
      "execution_count": null,
      "metadata": {
        "id": "FCyLpCI4GRMY"
      },
      "outputs": [],
      "source": [
        "# 121. Best Time to Buy and Sell Stock\n",
        "# Easy\n",
        "# Topics\n",
        "# Companies\n",
        "# You are given an array prices where prices[i] is the price of a given stock on the ith day.\n",
        "\n",
        "# You want to maximize your profit by choosing a single day to buy one stock and choosing a different day in the future to sell that stock.\n",
        "\n",
        "# Return the maximum profit you can achieve from this transaction. If you cannot achieve any profit, return 0.\n",
        "\n",
        " \n",
        "\n",
        "# Example 1:\n",
        "\n",
        "# Input: prices = [7,1,5,3,6,4]\n",
        "# Output: 5\n",
        "# Explanation: Buy on day 2 (price = 1) and sell on day 5 (price = 6), profit = 6-1 = 5.\n",
        "# Note that buying on day 2 and selling on day 1 is not allowed because you must buy before you sell.\n",
        "# Example 2:\n",
        "\n",
        "# Input: prices = [7,6,4,3,1]\n",
        "# Output: 0\n",
        "# Explanation: In this case, no transactions are done and the max profit = 0."
      ]
    },
    {
      "cell_type": "code",
      "execution_count": null,
      "metadata": {
        "colab": {
          "base_uri": "https://localhost:8080/"
        },
        "id": "m5hoEa9cHD_3",
        "outputId": "e4bf7867-3886-4fd9-c028-f3c7fc74d435"
      },
      "outputs": [
        {
          "name": "stdout",
          "output_type": "stream",
          "text": [
            "5\n"
          ]
        }
      ],
      "source": [
        "max_profit = 0\n",
        "prices =[7,1,5,3,6,4]\n",
        "for i in range(0,len(prices)):\n",
        "  for j in range(i+1,len(prices)):\n",
        "    if prices[j]-prices[i]>max_profit:\n",
        "      max_profit = prices[j]-prices[i]\n",
        "print(max_profit)\n",
        "\n"
      ]
    },
    {
      "cell_type": "code",
      "execution_count": null,
      "metadata": {
        "colab": {
          "base_uri": "https://localhost:8080/"
        },
        "id": "iy5v58o86CXX",
        "outputId": "b72571af-591d-4792-f812-35d209e1b4e4"
      },
      "outputs": [],
      "source": [
        "## if you have a list and short that list by one loop\n",
        "lst = [64, 34, 25, 12, 22, 11, 45, 9]\n",
        "start = 0\n",
        "end = 1\n",
        "for i in range()\n",
        "    \n",
        "\n",
        "\n",
        "\n"
      ]
    },
    {
      "cell_type": "code",
      "execution_count": null,
      "metadata": {
        "colab": {
          "base_uri": "https://localhost:8080/"
        },
        "id": "pEGA_YdrFqOE",
        "outputId": "da58723d-6ad3-4ce3-be11-c4cef24463a3"
      },
      "outputs": [
        {
          "name": "stdout",
          "output_type": "stream",
          "text": [
            "2 7\n",
            "3 6\n"
          ]
        }
      ],
      "source": [
        "## Two sum problem by a single loop\n",
        "lst = [2,3,6,7,5]     ## [2,3,5,6,7]\n",
        "lst.sort()\n",
        "target = 9\n",
        "start =0\n",
        "end = len(lst)-1\n",
        "while(start<end):\n",
        "    if lst[start]+lst[end]==target:\n",
        "        print(lst[start],lst[end])\n",
        "        start+=1\n",
        "        end-=1\n",
        "    elif (lst[start]+lst[end]>target) :\n",
        "        end-=1\n",
        "    else:\n",
        "        start+=1     \n",
        "  \n",
        "\n"
      ]
    },
    {
      "cell_type": "code",
      "execution_count": null,
      "metadata": {
        "id": "r-LD1hp7HKL4"
      },
      "outputs": [],
      "source": [
        "##  you have been given two list having same number of elements and you have to merge both the list by removing the duplicate elements \n",
        "# but with a single loop but do not use zip and enamurate function"
      ]
    },
    {
      "cell_type": "code",
      "execution_count": 1,
      "metadata": {
        "colab": {
          "base_uri": "https://localhost:8080/"
        },
        "id": "tNfB-918H9r1",
        "outputId": "e6fa68e2-3746-4993-f129-5172b41ebae3"
      },
      "outputs": [
        {
          "name": "stdout",
          "output_type": "stream",
          "text": [
            "[10, 20, 30, 40, 50, 60, 70]\n"
          ]
        }
      ],
      "source": [
        "lst1 = [10,20,30,40,50]\n",
        "lst2 = [30,40,50,60,70]\n",
        "\n",
        "merge_list = lst1+[item for item in lst2 if item not in lst1]\n",
        "print(merge_list)\n"
      ]
    },
    {
      "cell_type": "code",
      "execution_count": null,
      "metadata": {},
      "outputs": [
        {
          "name": "stdout",
          "output_type": "stream",
          "text": [
            "2\n",
            "1\n",
            "3\n",
            "1\n",
            "2\n",
            "4\n"
          ]
        }
      ],
      "source": [
        "# plus one probelem \n",
        "# Input: digits = [1,2,3]\n",
        "# Output: [1,2,4]\n",
        "# Explanation: The array represents the integer 123.\n",
        "# Incrementing by one gives 123 + 1 = 124.\n",
        "# Thus, the result should be [1,2,4].\n",
        "\n",
        "lst = [1,2,3]\n",
        "num = 0\n",
        "for i in range(0,len(lst)):\n",
        "    num = num*10 + lst[i]\n",
        "    for digit in str(num+1):\n",
        "        print(digit)\n",
        "\n",
        "\n",
        "\n",
        "\n",
        "\n",
        "    \n"
      ]
    },
    {
      "cell_type": "code",
      "execution_count": null,
      "metadata": {
        "id": "UUjPcs5decmB"
      },
      "outputs": [],
      "source": [
        "## Three sum problem(leetcode)"
      ]
    },
    {
      "cell_type": "code",
      "execution_count": 29,
      "metadata": {},
      "outputs": [
        {
          "name": "stdout",
          "output_type": "stream",
          "text": [
            "-1 -1 2\n",
            "-1 0 1\n",
            "-1 0 1\n",
            "hello\n"
          ]
        }
      ],
      "source": [
        "nums = [-1,0,1,2,-1,-4]\n",
        "nums.sort()\n",
        "for i in range(0,len(nums)-2):\n",
        "    start = i+1\n",
        "    end = len(nums)-1\n",
        "    while(start<end):\n",
        "        if nums[i]+nums[start]+nums[end]==0 :\n",
        "            print(nums[i],nums[start],nums[end])\n",
        "            start+=1\n",
        "            end-=1\n",
        "        elif (nums[i]+nums[start]+nums[end]>0):\n",
        "            end-=1\n",
        "        else:\n",
        "            start+=1    \n",
        "\n",
        "print('hello')"
      ]
    },
    {
      "cell_type": "code",
      "execution_count": 30,
      "metadata": {},
      "outputs": [
        {
          "name": "stdout",
          "output_type": "stream",
          "text": [
            "hello\n"
          ]
        }
      ],
      "source": [
        "print(\"hello\")\n"
      ]
    }
  ],
  "metadata": {
    "colab": {
      "provenance": []
    },
    "kernelspec": {
      "display_name": "base",
      "language": "python",
      "name": "python3"
    },
    "language_info": {
      "codemirror_mode": {
        "name": "ipython",
        "version": 3
      },
      "file_extension": ".py",
      "mimetype": "text/x-python",
      "name": "python",
      "nbconvert_exporter": "python",
      "pygments_lexer": "ipython3",
      "version": "3.12.7"
    }
  },
  "nbformat": 4,
  "nbformat_minor": 0
}

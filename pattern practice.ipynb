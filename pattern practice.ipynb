{
 "cells": [
  {
   "cell_type": "code",
   "execution_count": 1,
   "id": "70d5b18e",
   "metadata": {},
   "outputs": [
    {
     "name": "stdout",
     "output_type": "stream",
     "text": [
      "****\n",
      " ****\n",
      "  ****\n",
      "   ****\n"
     ]
    }
   ],
   "source": [
    "for i in range(1,5):\n",
    "    for j in range(1,i):\n",
    "        print(\" \",end=\"\")\n",
    "    for k in range(1,5):\n",
    "        print(\"*\",end=\"\")\n",
    "    print(\"\")        "
   ]
  },
  {
   "cell_type": "code",
   "execution_count": 4,
   "id": "7e3dcf91",
   "metadata": {},
   "outputs": [
    {
     "name": "stdout",
     "output_type": "stream",
     "text": [
      "*****\n",
      "*   *\n",
      "*   *\n",
      "*****\n"
     ]
    }
   ],
   "source": [
    "for i in range(1,5):\n",
    "    for j in range(1,6):\n",
    "        if j ==1 or j==5 or i==1 or i==4:\n",
    "            print(\"*\",end=\"\")\n",
    "        else:\n",
    "            print(\" \",end=\"\")\n",
    "    print(\"\")            "
   ]
  },
  {
   "cell_type": "code",
   "execution_count": 9,
   "id": "782efdaa",
   "metadata": {},
   "outputs": [
    {
     "name": "stdout",
     "output_type": "stream",
     "text": [
      "A\n",
      "AB\n",
      "ABC\n",
      "ABCD\n",
      "ABCDE\n"
     ]
    }
   ],
   "source": [
    "for i in range(1,6):\n",
    "    for j in range(1,i+1):\n",
    "        print(chr(64+j),end=\"\")\n",
    "    print(\"\")    "
   ]
  },
  {
   "cell_type": "code",
   "execution_count": 10,
   "id": "d9c9f4a0",
   "metadata": {},
   "outputs": [
    {
     "name": "stdout",
     "output_type": "stream",
     "text": [
      "A\n",
      "BB\n",
      "CCC\n",
      "DDDD\n",
      "EEEEE\n"
     ]
    }
   ],
   "source": [
    "n = 5\n",
    "for i in range(n):\n",
    "    for j in range(0,i+1):\n",
    "        print(chr(65+i),end=\"\")\n",
    "    print(\"\")    "
   ]
  },
  {
   "cell_type": "code",
   "execution_count": 13,
   "id": "ddf2c576",
   "metadata": {},
   "outputs": [
    {
     "name": "stdout",
     "output_type": "stream",
     "text": [
      "E \n",
      "D D \n",
      "C C C \n",
      "B B B B \n",
      "A A A A A \n"
     ]
    }
   ],
   "source": [
    "n = 5\n",
    "for i in range(n):\n",
    "    for j in range(0,i+1):\n",
    "        print(chr(69-i),end=\" \")\n",
    "    print(\"\")    "
   ]
  },
  {
   "cell_type": "code",
   "execution_count": 16,
   "id": "f47e320e",
   "metadata": {},
   "outputs": [
    {
     "name": "stdout",
     "output_type": "stream",
     "text": [
      "          * \n",
      "        * * \n",
      "      * * * \n",
      "    * * * * \n",
      "  * * * * * \n"
     ]
    }
   ],
   "source": [
    "for i in range(1,6):\n",
    "    for j in range(i,6):\n",
    "        print(\" \",end=\" \")\n",
    "    for k in range(1,i+1):\n",
    "        print(\"*\",end=\" \")\n",
    "    print(\"\")        "
   ]
  },
  {
   "cell_type": "code",
   "execution_count": 17,
   "id": "531ddd0f",
   "metadata": {},
   "outputs": [
    {
     "name": "stdout",
     "output_type": "stream",
     "text": [
      "          A \n",
      "        B B \n",
      "      C C C \n",
      "    D D D D \n",
      "  E E E E E \n"
     ]
    }
   ],
   "source": [
    "for i in range(1,6):\n",
    "    for j in range(i,6):\n",
    "        print(\" \",end=\" \")\n",
    "    for k in range(1,i+1):\n",
    "        print(chr(64+i),end=\" \")\n",
    "    print(\"\")        "
   ]
  },
  {
   "cell_type": "code",
   "execution_count": 22,
   "id": "fae1cbcf",
   "metadata": {},
   "outputs": [
    {
     "name": "stdout",
     "output_type": "stream",
     "text": [
      "A B C D E \n",
      "  A B C D \n",
      "    A B C \n",
      "      A B \n",
      "        A \n"
     ]
    }
   ],
   "source": [
    "for i in range(0,5):\n",
    "    for j in range(1,i+1):\n",
    "        print(\" \",end=\" \")\n",
    "    for k in range(0,5-i):\n",
    "        print(chr(65+k),end=\" \")\n",
    "    print(\"\")        "
   ]
  },
  {
   "cell_type": "code",
   "execution_count": 25,
   "id": "8de26827",
   "metadata": {},
   "outputs": [
    {
     "name": "stdout",
     "output_type": "stream",
     "text": [
      "     *\n",
      "    ***\n",
      "   *****\n",
      "  *******\n",
      " *********\n"
     ]
    }
   ],
   "source": [
    "for i in range(0,5):\n",
    "    for j in range(i,5):\n",
    "        print(\" \",end=\"\")\n",
    "    for k in range(0,2*i+1):\n",
    "        print(\"*\",end=\"\")\n",
    "    print(\"\")        "
   ]
  },
  {
   "cell_type": "code",
   "execution_count": 45,
   "id": "92a4e218",
   "metadata": {},
   "outputs": [
    {
     "name": "stdout",
     "output_type": "stream",
     "text": [
      "    *\n",
      "   * *\n",
      "  *   *\n",
      " *******\n"
     ]
    }
   ],
   "source": [
    "for i in range(1,8,2):\n",
    "    for j in range(i,8,2):\n",
    "        print(\" \",end=\"\")\n",
    "    for k in range(1,i+1):\n",
    "        if i==1 or i==7 or k==i or k==1:\n",
    "            print(\"*\",end=\"\")\n",
    "        else:\n",
    "            print(\" \",end=\"\")\n",
    "\n",
    "    print(\"\")    \n"
   ]
  },
  {
   "cell_type": "code",
   "execution_count": 47,
   "id": "1c910ecb",
   "metadata": {},
   "outputs": [
    {
     "name": "stdout",
     "output_type": "stream",
     "text": [
      "*******\n",
      " *****\n",
      "  ***\n",
      "   *\n"
     ]
    }
   ],
   "source": [
    "for i in range(1,8,2):\n",
    "    for j in range(3,i+1,2):\n",
    "        print(\" \",end=\"\")\n",
    "    for k in range(i,8):\n",
    "        print(\"*\",end=\"\")\n",
    "    print(\"\")        "
   ]
  },
  {
   "cell_type": "code",
   "execution_count": 55,
   "id": "0470cf59",
   "metadata": {},
   "outputs": [
    {
     "name": "stdout",
     "output_type": "stream",
     "text": [
      "   *\n",
      "  ***\n",
      " *****\n",
      "*******\n",
      " *****\n",
      "  ***\n",
      "   *\n"
     ]
    }
   ],
   "source": [
    "for i in range(1,8,2):\n",
    "    for j in range(i,6,2):\n",
    "        print(\" \",end=\"\")\n",
    "    for k in range(1,i+1):\n",
    "        print(\"*\",end=\"\")    \n",
    "    print(\"\")\n",
    "for i in range(1,6,2):\n",
    "    for j in range(1,i+1,2):\n",
    "        print(\" \",end=\"\")\n",
    "    for k in range(i,6):\n",
    "        print(\"*\",end=\"\")    \n",
    "    \n",
    "    print(\"\")    \n"
   ]
  },
  {
   "cell_type": "code",
   "execution_count": 58,
   "id": "7ba213b9",
   "metadata": {},
   "outputs": [
    {
     "name": "stdout",
     "output_type": "stream",
     "text": [
      "1 2 3 4 5 \n",
      "1 2 3 4 \n",
      "1 2 3 \n",
      "1 2 \n",
      "1 \n"
     ]
    }
   ],
   "source": [
    "for i in range(0,5):\n",
    "    for j in range(1,6-i):\n",
    "        print(j,end=\" \")\n",
    "    print(\"\")    "
   ]
  },
  {
   "cell_type": "code",
   "execution_count": 66,
   "id": "94a08cc8",
   "metadata": {},
   "outputs": [
    {
     "name": "stdout",
     "output_type": "stream",
     "text": [
      "        1 \n",
      "      2 3 2 \n",
      "    3 4 5 4 3 \n",
      "  4 5 6 7 6 5 4 \n",
      "5 6 7 8 9 8 7 6 5 \n"
     ]
    }
   ],
   "source": [
    "for i in range(1,6):\n",
    "    for j in range(i,5):\n",
    "        print(\" \",end=\" \")\n",
    "    for k in range(i,2*i):\n",
    "        print(k,end=\" \")\n",
    "    for l in range(2 * i - 2, i - 1, -1):\n",
    "        print(l,end=\" \")        \n",
    "    print(\"\")    "
   ]
  },
  {
   "cell_type": "code",
   "execution_count": 88,
   "id": "b8c40657",
   "metadata": {},
   "outputs": [
    {
     "name": "stdout",
     "output_type": "stream",
     "text": [
      "    1  \n",
      "   1  2  \n",
      "  1     3  \n",
      " 1        4  \n",
      "1  2  3  4  5  \n"
     ]
    }
   ],
   "source": [
    "for i in range(1,6):\n",
    "    for j in range(i,5):\n",
    "        print(\" \",end=\"\")\n",
    "    for k in range(1,i+1):\n",
    "        if k==1 or i==5 or k==i:\n",
    "            print(k,end=\"  \")\n",
    "        else:\n",
    "            print(\"  \",end=\" \")        \n",
    "    print(\"\")        "
   ]
  },
  {
   "cell_type": "code",
   "execution_count": 92,
   "id": "749d85c2",
   "metadata": {},
   "outputs": [
    {
     "name": "stdout",
     "output_type": "stream",
     "text": [
      "A B C D E \n",
      "A       E \n",
      "A       E \n",
      "A       E \n",
      "A B C D E \n"
     ]
    }
   ],
   "source": [
    "for i in range(1,6):\n",
    "    for j in range(1,6):\n",
    "        if i==1 or i==5 or j==1 or j==5:\n",
    "            print(chr(64+j),end=\" \")\n",
    "        else:\n",
    "            print(\" \",end=\" \")    \n",
    "    print(\"\")    "
   ]
  },
  {
   "cell_type": "code",
   "execution_count": 124,
   "id": "0d0cc497",
   "metadata": {},
   "outputs": [
    {
     "name": "stdout",
     "output_type": "stream",
     "text": [
      "        A \n",
      "      A   C \n",
      "    A       E \n",
      "  A           G \n",
      "A               I \n",
      "  A           G \n",
      "    A       E \n",
      "      A   C \n",
      "        A \n"
     ]
    }
   ],
   "source": [
    "for i in range(1,10,2):\n",
    "    for k in range(i,8,2):\n",
    "        print(\" \",end=\" \")\n",
    "    for k in range(1,i+1):\n",
    "        if  k==1 or k==i:\n",
    "            print(chr(64+k),end=\" \")\n",
    "        else:\n",
    "            print(\" \",end=\" \")        \n",
    "    print(\"\")\n",
    "for i in range(1,8,2):\n",
    "    for j in range(1,i+1,2):\n",
    "        print(\" \",end=\" \")\n",
    "    for k in range(1,9-i):\n",
    "        if  k==1 or k==8-i:\n",
    "            print(chr(64+k),end=\" \")\n",
    "        else:\n",
    "            print(\" \",end=\" \")        \n",
    "    print(\"\")            "
   ]
  },
  {
   "cell_type": "code",
   "execution_count": null,
   "id": "b6f14cf0",
   "metadata": {},
   "outputs": [
    {
     "name": "stdout",
     "output_type": "stream",
     "text": [
      "        * \n",
      "      * * * \n",
      "    *     * * \n",
      "  *         * * \n",
      "* * * * * * * * * \n"
     ]
    }
   ],
   "source": [
    "for i in range(1,10,2):\n",
    "    for j in range(i,8,2):\n",
    "        print(\" \",end=\" \")\n",
    "    for k in range(1,i+1):\n",
    "        if k==1 or k==i or i==9 or k==i-:\n",
    "            print(\"*\",end=\" \")\n",
    "        else:\n",
    "            print(\" \",end=\" \")        \n",
    "    print(\"\")    "
   ]
  },
  {
   "cell_type": "code",
   "execution_count": 4,
   "id": "7e59a035",
   "metadata": {},
   "outputs": [
    {
     "name": "stdout",
     "output_type": "stream",
     "text": [
      "10 11 12 13 14 \n",
      "15 16 17 18 \n",
      "19 20 21 \n",
      "22 23 \n",
      "24 \n"
     ]
    }
   ],
   "source": [
    "n = 5\n",
    "num = 10\n",
    "for i in range(n):\n",
    "    for j in range(n-i):\n",
    "        print(num,end=\" \")\n",
    "        num+=1\n",
    "    print(\"\")    "
   ]
  },
  {
   "cell_type": "code",
   "execution_count": 8,
   "id": "84d8ff18",
   "metadata": {},
   "outputs": [
    {
     "name": "stdout",
     "output_type": "stream",
     "text": [
      "1 0 1 0 1 \n",
      "1 0 1 0 \n",
      "1 0 1 \n",
      "1 0 \n",
      "1 \n"
     ]
    }
   ],
   "source": [
    "for i in range(1,6):\n",
    "    for i in range(1,7-i):\n",
    "        if i%2==0:\n",
    "            print(\"0\",end=\" \")\n",
    "        else:\n",
    "            print(\"1\",end=\" \")    \n",
    "    print(\"\")    "
   ]
  },
  {
   "cell_type": "code",
   "execution_count": null,
   "id": "44d04465",
   "metadata": {},
   "outputs": [],
   "source": [
    "1 0 1 0 1 \n",
    "2 0 2 0 \n",
    "3 0 3 \n",
    "4 0 \n",
    "5 "
   ]
  },
  {
   "cell_type": "code",
   "execution_count": null,
   "id": "0b020a18",
   "metadata": {},
   "outputs": [],
   "source": [
    "for i in range(1,6):\n",
    "    for i in range(1,7-i):\n",
    "        if i%2==0:\n",
    "            print(\"0\",end=\" \")\n",
    "        else:\n",
    "            print(\"1\",end=\" \")    \n",
    "    print(\"\")"
   ]
  },
  {
   "cell_type": "code",
   "execution_count": 11,
   "id": "f6ca870c",
   "metadata": {},
   "outputs": [
    {
     "name": "stdout",
     "output_type": "stream",
     "text": [
      "1 0 1 0 1 \n",
      "2 0 2 0 \n",
      "3 0 3 \n",
      "4 0 \n",
      "5 \n"
     ]
    }
   ],
   "source": [
    "n = 5\n",
    "num = 1\n",
    "for i in range(n):\n",
    "    for j in range(n-i):\n",
    "        if j==0 or j==2 or j==4:\n",
    "            print(num,end=\" \")\n",
    "        else:\n",
    "            print(\"0\",end=\" \")\n",
    "    print(\"\")\n",
    "    num+=1\n",
    "                "
   ]
  },
  {
   "cell_type": "code",
   "execution_count": 23,
   "id": "1bf12c39",
   "metadata": {},
   "outputs": [
    {
     "name": "stdout",
     "output_type": "stream",
     "text": [
      "[80, 60, 20, 10, 9]\n"
     ]
    }
   ],
   "source": [
    "list2 = [10,20,60,80,9]\n",
    "for i in range(0,len(list2)):\n",
    "    for j in range(i+1,len(list2)):\n",
    "        if list2[i]< list2[j]:\n",
    "            list2[i],list2[j] = list2[j],list2[i]\n",
    "print(list2)\n",
    "\n"
   ]
  },
  {
   "cell_type": "code",
   "execution_count": 39,
   "id": "4757c88e",
   "metadata": {},
   "outputs": [
    {
     "name": "stdout",
     "output_type": "stream",
     "text": [
      "7\n"
     ]
    }
   ],
   "source": [
    "# finding the second largst number\n",
    "Second_largest = 0\n",
    "nums = [4, 1, 7, 3, 9]\n",
    "for i in range(0,len(nums)):\n",
    "    for j in range(i+1,len(nums)):\n",
    "        if nums[i]<nums[j]:\n",
    "            nums[i],nums[j]=nums[j],nums[i]\n",
    "Second_largest+= nums[1]\n",
    "print(Second_largest)                                   "
   ]
  },
  {
   "cell_type": "code",
   "execution_count": null,
   "id": "1695fc8c",
   "metadata": {},
   "outputs": [
    {
     "name": "stdout",
     "output_type": "stream",
     "text": [
      "it is paliindrome\n"
     ]
    }
   ],
   "source": [
    "# checking the list is pallindrome or not\n",
    "\n",
    "lst = [1, 2, 3, 2, 1]\n",
    "if lst == lst[::-1]:\n",
    "    print(\"it is paliindrome\")\n",
    "else:\n",
    "    print(\"it is not pallindrome\")    "
   ]
  },
  {
   "cell_type": "code",
   "execution_count": 46,
   "id": "88162f55",
   "metadata": {},
   "outputs": [
    {
     "name": "stdout",
     "output_type": "stream",
     "text": [
      "[2, 4, 6]\n"
     ]
    }
   ],
   "source": [
    "# checking the all even numbers in list\n",
    "\n",
    "nums = [1, 2, 3, 4, 5, 6]\n",
    "nums2 = []\n",
    "for i in nums:\n",
    "    if i%2==0:\n",
    "        nums2.append(i)\n",
    "print(nums2)        \n",
    "\n"
   ]
  },
  {
   "cell_type": "code",
   "execution_count": null,
   "id": "d436bddb",
   "metadata": {},
   "outputs": [],
   "source": []
  }
 ],
 "metadata": {
  "kernelspec": {
   "display_name": "base",
   "language": "python",
   "name": "python3"
  },
  "language_info": {
   "codemirror_mode": {
    "name": "ipython",
    "version": 3
   },
   "file_extension": ".py",
   "mimetype": "text/x-python",
   "name": "python",
   "nbconvert_exporter": "python",
   "pygments_lexer": "ipython3",
   "version": "3.12.7"
  }
 },
 "nbformat": 4,
 "nbformat_minor": 5
}

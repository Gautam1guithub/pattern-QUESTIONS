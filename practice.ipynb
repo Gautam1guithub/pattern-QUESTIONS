{
  "cells": [
    {
      "cell_type": "code",
      "execution_count": 4,
      "metadata": {
        "colab": {
          "base_uri": "https://localhost:8080/"
        },
        "id": "dlCaUBpbPKQJ",
        "outputId": "9e943800-094a-4a9d-b5c8-fc0f1abcf4ef"
      },
      "outputs": [
        {
          "name": "stdout",
          "output_type": "stream",
          "text": [
            "*\n",
            "**\n",
            "***\n",
            "****\n",
            "*****\n"
          ]
        }
      ],
      "source": [
        "for i in range(1,6):\n",
        " print(i*\"*\")"
      ]
    },
    {
      "cell_type": "markdown",
      "metadata": {
        "id": "g2NjO0tHRWCE"
      },
      "source": [
        "floyd's triangle"
      ]
    },
    {
      "cell_type": "code",
      "execution_count": 5,
      "metadata": {
        "colab": {
          "base_uri": "https://localhost:8080/"
        },
        "id": "BdxD3dl9RLGw",
        "outputId": "596d70e7-1dd9-479b-cded-efe50ad06989"
      },
      "outputs": [
        {
          "name": "stdout",
          "output_type": "stream",
          "text": [
            "1 \n",
            "2 3 \n",
            "4 5 6 \n",
            "7 8 9 10 \n",
            "11 12 13 14 15 \n"
          ]
        }
      ],
      "source": [
        "n=5\n",
        "num=1\n",
        "for i in range(1,n+1):\n",
        "  for j in range(i):\n",
        "    print(num,end=\" \")\n",
        "    num+=1\n",
        "  print()"
      ]
    },
    {
      "cell_type": "code",
      "execution_count": 6,
      "metadata": {
        "colab": {
          "base_uri": "https://localhost:8080/"
        },
        "id": "IPgq8nCPR-nr",
        "outputId": "35654fa0-021d-44ed-b743-50eef9d2f52a"
      },
      "outputs": [
        {
          "name": "stdout",
          "output_type": "stream",
          "text": [
            "* * * * * \n",
            "*       * \n",
            "*       * \n",
            "*       * \n",
            "*       * \n",
            "*       * \n",
            "* * * * * \n"
          ]
        }
      ],
      "source": [
        "for i in range(1,8):\n",
        "  for j in range(1,6):\n",
        "    if j==1 or j==5 or i==1 or i==7:\n",
        "      print(\"*\",end=\" \")\n",
        "    else:\n",
        "      print(\" \",end=\" \")\n",
        "  print(\"\")"
      ]
    },
    {
      "cell_type": "code",
      "execution_count": 7,
      "metadata": {
        "id": "r1s4gV7qTDee"
      },
      "outputs": [
        {
          "ename": "SyntaxError",
          "evalue": "expected ':' (2587284864.py, line 2)",
          "output_type": "error",
          "traceback": [
            "\u001b[1;36m  Cell \u001b[1;32mIn[7], line 2\u001b[1;36m\u001b[0m\n\u001b[1;33m    for j in range()\u001b[0m\n\u001b[1;37m                    ^\u001b[0m\n\u001b[1;31mSyntaxError\u001b[0m\u001b[1;31m:\u001b[0m expected ':'\n"
          ]
        }
      ],
      "source": [
        "for j in range(1,6):\n",
        "  for j in range()"
      ]
    },
    {
      "cell_type": "code",
      "execution_count": null,
      "metadata": {
        "colab": {
          "base_uri": "https://localhost:8080/"
        },
        "id": "-zTXR5AQYZ9s",
        "outputId": "2d140e17-f7e9-43ad-d9fb-62c3c29bf7eb"
      },
      "outputs": [
        {
          "name": "stdout",
          "output_type": "stream",
          "text": [
            "*\n",
            "**\n",
            "***\n",
            "****\n",
            "*****\n",
            "****\n",
            "***\n",
            "**\n",
            "*\n"
          ]
        }
      ],
      "source": [
        "for i in range(1,6):\n",
        "  print(i*\"*\")\n",
        "  for j in range()"
      ]
    },
    {
      "cell_type": "code",
      "execution_count": null,
      "metadata": {
        "id": "9QtoPh1MZN14"
      },
      "outputs": [],
      "source": [
        "n= = 5 # change n for a biger or smaller patter\n",
        "\n",
        "# upper half\n",
        "for i in range(1,n+1):   # controls the number of rows(reverse)"
      ]
    },
    {
      "cell_type": "code",
      "execution_count": null,
      "metadata": {
        "colab": {
          "base_uri": "https://localhost:8080/"
        },
        "id": "1syoFGC4hJCT",
        "outputId": "e46bad5a-d19b-4a49-8300-63dcb21009b5"
      },
      "outputs": [
        {
          "name": "stdout",
          "output_type": "stream",
          "text": [
            "*****\n",
            "****\n",
            "***\n",
            "**\n",
            "*\n"
          ]
        }
      ],
      "source": [
        "for i in range(1,6):\n",
        "  for j in range(i,6):\n",
        "    print(\"*\",end=\"\")\n",
        "  print(\"\")"
      ]
    },
    {
      "cell_type": "code",
      "execution_count": null,
      "metadata": {
        "colab": {
          "base_uri": "https://localhost:8080/"
        },
        "id": "09HbU7JOhog9",
        "outputId": "365e359d-5686-474a-cc91-3996933ed8df"
      },
      "outputs": [
        {
          "name": "stdout",
          "output_type": "stream",
          "text": [
            "1 2 3 4 5 \n",
            "2 3 4 5 \n",
            "3 4 5 \n",
            "4 5 \n",
            "5 \n"
          ]
        }
      ],
      "source": [
        "for i in range(1,6):\n",
        "  for j in range(i,6):\n",
        "    print(j,end=\" \")\n",
        "  print(\"\")"
      ]
    },
    {
      "cell_type": "code",
      "execution_count": null,
      "metadata": {
        "colab": {
          "base_uri": "https://localhost:8080/"
        },
        "id": "5g_nR-rwiCdp",
        "outputId": "a4508ecd-086d-4c6c-f449-9fb0d77b4437"
      },
      "outputs": [
        {
          "name": "stdout",
          "output_type": "stream",
          "text": [
            "10 11 12 13 14 \n",
            "15 16 17 18 \n",
            "19 20 21 \n",
            "22 23 \n",
            "24 \n"
          ]
        }
      ],
      "source": [
        "num=5\n",
        "n=10\n",
        "for i in range(num):\n",
        "  for j in range(num-i):\n",
        "    print(n,end=\" \")\n",
        "    n=n+1\n",
        "  print(\"\")"
      ]
    },
    {
      "cell_type": "code",
      "execution_count": null,
      "metadata": {
        "colab": {
          "base_uri": "https://localhost:8080/"
        },
        "id": "k740Kz_fjSM9",
        "outputId": "73fc7e3f-1b42-47df-8e26-e06027723b22"
      },
      "outputs": [
        {
          "name": "stdout",
          "output_type": "stream",
          "text": [
            "1 0 1 0 1 \n",
            "1 0 1 0 \n",
            "1 0 1 \n",
            "1 0 \n",
            "1 \n"
          ]
        }
      ],
      "source": [
        "n=5\n",
        "for i in range(n):\n",
        "  for j in range(n-i):\n",
        "    if j==0 or j==2 or j==4:\n",
        "      print(1,end=\" \")\n",
        "    else:\n",
        "      print(0,end=\" \")\n",
        "  print(\"\")"
      ]
    },
    {
      "cell_type": "code",
      "execution_count": null,
      "metadata": {
        "colab": {
          "base_uri": "https://localhost:8080/"
        },
        "id": "Jrx_ZqeinGiu",
        "outputId": "c09637c4-b82d-429e-c522-569e1af56ba0"
      },
      "outputs": [
        {
          "name": "stdout",
          "output_type": "stream",
          "text": [
            "1 0 1 0 1 \n",
            "2 0 2 0 \n",
            "3 0 3 \n",
            "4 0 \n",
            "5 \n"
          ]
        }
      ],
      "source": [
        "n=5\n",
        "num=1\n",
        "for i in range(n):\n",
        "  for j in range(n-i):\n",
        "    if j==0 or j==2 or j==4:\n",
        "      print(num,end=\" \")\n",
        "\n",
        "    else:\n",
        "      print(0,end=\" \")\n",
        "  print(\"\")\n",
        "  num+=1"
      ]
    },
    {
      "cell_type": "code",
      "execution_count": null,
      "metadata": {
        "colab": {
          "base_uri": "https://localhost:8080/"
        },
        "id": "wgkYRK5uphFC",
        "outputId": "bcb5d625-2f42-49d6-bcdb-ac9c29bc1a5c"
      },
      "outputs": [
        {
          "name": "stdout",
          "output_type": "stream",
          "text": [
            "* * * * * \n",
            "* * * * \n",
            "* * * \n",
            "* * \n",
            "* \n"
          ]
        }
      ],
      "source": [
        "n=5\n",
        "for i in range(n):\n",
        "  for j in range(n-i):\n",
        "    print(\"*\",end=\" \")\n",
        "  print(\"\")"
      ]
    },
    {
      "cell_type": "code",
      "execution_count": null,
      "metadata": {
        "colab": {
          "base_uri": "https://localhost:8080/"
        },
        "id": "iLSAHyNdrBy1",
        "outputId": "96097a0b-4b82-47cc-c7e0-5557f4772f29"
      },
      "outputs": [
        {
          "name": "stdout",
          "output_type": "stream",
          "text": [
            "  * * * * * \n",
            "    *     * \n",
            "      *   * \n",
            "        * * \n",
            "          * \n"
          ]
        }
      ],
      "source": [
        "for i in range(1,6):\n",
        "  for j in range(1,i+1):\n",
        "    print(\" \",end=\" \")\n",
        "  for k in range(i,6):\n",
        "    if k==i or k==5 or i==1 :\n",
        "      print(\"*\",end=\" \")\n",
        "    else:\n",
        "      print(\" \",end=\" \")\n",
        "  print(\"\")"
      ]
    },
    {
      "cell_type": "code",
      "execution_count": null,
      "metadata": {
        "colab": {
          "base_uri": "https://localhost:8080/"
        },
        "id": "GO8xP1kU_RO4",
        "outputId": "f58acdec-baf8-4d1c-e1cc-d904065543e6"
      },
      "outputs": [
        {
          "name": "stdout",
          "output_type": "stream",
          "text": [
            "  *\n",
            " ***\n",
            "*****\n"
          ]
        }
      ],
      "source": [
        "for i in range(1,4):\n",
        "  for j in range(i,3):\n",
        "    print(\" \",end=\"\")\n",
        "  for k in range(1,(2*i)):\n",
        "    print(\"*\",end=\"\")\n",
        "\n",
        "  print(\"\")"
      ]
    },
    {
      "cell_type": "code",
      "execution_count": null,
      "metadata": {
        "colab": {
          "base_uri": "https://localhost:8080/"
        },
        "id": "Q_BFXLCXAhuh",
        "outputId": "ed87994b-1566-4aca-acd4-069e2c2f28a9"
      },
      "outputs": [
        {
          "name": "stdout",
          "output_type": "stream",
          "text": [
            " * * * * \n",
            "  * * * \n",
            "   * * \n",
            "    * \n"
          ]
        }
      ],
      "source": [
        "for i in range(1,5):\n",
        "  for j in range(1,i+1):\n",
        "    print(\" \",end=\"\")\n",
        "  for k in range(i,5):\n",
        "    print(\"*\",end=\" \")\n",
        "  print(\"\")"
      ]
    },
    {
      "cell_type": "code",
      "execution_count": null,
      "metadata": {},
      "outputs": [],
      "source": [
        "\n"
      ]
    },
    {
      "cell_type": "code",
      "execution_count": null,
      "metadata": {
        "id": "fKhRkcbRB1us"
      },
      "outputs": [],
      "source": [
        "list \n",
        "# collectionn of elements\n",
        "# mutable index postion\n",
        "# string is a iterable\n",
        "# pop ,remove \n",
        "# pop = remove last element from list\n",
        "# remove = remove first occurence of element from list\n"
      ]
    },
    {
      "cell_type": "code",
      "execution_count": null,
      "metadata": {
        "colab": {
          "base_uri": "https://localhost:8080/"
        },
        "id": "Z0x2hFVDFkpV",
        "outputId": "5dc0b2b4-9031-4d3a-d125-2125204902f3"
      },
      "outputs": [
        {
          "name": "stdout",
          "output_type": "stream",
          "text": [
            "[80, 60, 20, 10, 9]\n"
          ]
        }
      ],
      "source": [
        "list2 = [10,20,60,80,9]\n",
        "for i in range(0,len(list2)):\n",
        "  for j in range(i+1,len(list2)):\n",
        "    if (list2[i]<list2[j]):\n",
        "      list2[i],list2[j]=list2[j],list2[i]\n",
        "print(list2)\n"
      ]
    },
    {
      "cell_type": "code",
      "execution_count": null,
      "metadata": {
        "id": "FCyLpCI4GRMY"
      },
      "outputs": [],
      "source": [
        "# 121. Best Time to Buy and Sell Stock\n",
        "# Easy\n",
        "# Topics\n",
        "# Companies\n",
        "# You are given an array prices where prices[i] is the price of a given stock on the ith day.\n",
        "\n",
        "# You want to maximize your profit by choosing a single day to buy one stock and choosing a different day in the future to sell that stock.\n",
        "\n",
        "# Return the maximum profit you can achieve from this transaction. If you cannot achieve any profit, return 0.\n",
        "\n",
        " \n",
        "\n",
        "# Example 1:\n",
        "\n",
        "# Input: prices = [7,1,5,3,6,4]\n",
        "# Output: 5\n",
        "# Explanation: Buy on day 2 (price = 1) and sell on day 5 (price = 6), profit = 6-1 = 5.\n",
        "# Note that buying on day 2 and selling on day 1 is not allowed because you must buy before you sell.\n",
        "# Example 2:\n",
        "\n",
        "# Input: prices = [7,6,4,3,1]\n",
        "# Output: 0\n",
        "# Explanation: In this case, no transactions are done and the max profit = 0."
      ]
    },
    {
      "cell_type": "code",
      "execution_count": null,
      "metadata": {
        "colab": {
          "base_uri": "https://localhost:8080/"
        },
        "id": "m5hoEa9cHD_3",
        "outputId": "e4bf7867-3886-4fd9-c028-f3c7fc74d435"
      },
      "outputs": [
        {
          "name": "stdout",
          "output_type": "stream",
          "text": [
            "5\n"
          ]
        }
      ],
      "source": [
        "max_profit = 0\n",
        "prices =[7,1,5,3,6,4]\n",
        "for i in range(0,len(prices)):\n",
        "  for j in range(i+1,len(prices)):\n",
        "    if prices[j]-prices[i]>max_profit:\n",
        "      max_profit = prices[j]-prices[i]\n",
        "print(max_profit)\n",
        "\n"
      ]
    },
    {
      "cell_type": "code",
      "execution_count": null,
      "metadata": {
        "colab": {
          "base_uri": "https://localhost:8080/"
        },
        "id": "iy5v58o86CXX",
        "outputId": "b72571af-591d-4792-f812-35d209e1b4e4"
      },
      "outputs": [
        {
          "name": "stdout",
          "output_type": "stream",
          "text": [
            "[34, 64, 25, 12, 22, 11, 45, 9]\n"
          ]
        }
      ],
      "source": [
        "## if you have a list and short that list by one loop\n",
        "lst = [64, 34, 25, 12, 22, 11, 45, 9]\n",
        "start = 0\n",
        "end = start+1\n",
        "while(start<end):\n",
        "    if lst[start]>lst[end]:\n",
        "        lst[start],lst[end]=lst[end],lst[start]\n",
        "        start+=1\n",
        "    \n",
        "        print(lst)    \n",
        "    \n",
        "\n",
        "\n",
        "\n"
      ]
    },
    {
      "cell_type": "code",
      "execution_count": null,
      "metadata": {
        "colab": {
          "base_uri": "https://localhost:8080/"
        },
        "id": "pEGA_YdrFqOE",
        "outputId": "da58723d-6ad3-4ce3-be11-c4cef24463a3"
      },
      "outputs": [
        {
          "name": "stdout",
          "output_type": "stream",
          "text": [
            "2 7\n",
            "3 6\n"
          ]
        }
      ],
      "source": [
        "## Two sum problem by a single loop\n",
        "lst = [2,3,6,7,5]     ## [2,3,5,6,7]\n",
        "lst.sort()\n",
        "target = 9\n",
        "start =0\n",
        "end = len(lst)-1\n",
        "while(start<end):\n",
        "    if lst[start]+lst[end]==target:\n",
        "        print(lst[start],lst[end])\n",
        "        start+=1\n",
        "        end-=1\n",
        "    elif (lst[start]+lst[end]>target) :\n",
        "        end-=1\n",
        "    else:\n",
        "        start+=1     \n",
        "  \n",
        "\n"
      ]
    },
    {
      "cell_type": "code",
      "execution_count": null,
      "metadata": {
        "id": "r-LD1hp7HKL4"
      },
      "outputs": [],
      "source": [
        "##  you have been given two list having same number of elements and you have to merge both the list by removing the duplicate elements \n",
        "# but with a single loop but do not use zip and enamurate function"
      ]
    },
    {
      "cell_type": "code",
      "execution_count": null,
      "metadata": {
        "colab": {
          "base_uri": "https://localhost:8080/"
        },
        "id": "tNfB-918H9r1",
        "outputId": "e6fa68e2-3746-4993-f129-5172b41ebae3"
      },
      "outputs": [
        {
          "name": "stdout",
          "output_type": "stream",
          "text": [
            "[10, 20, 30, 40, 50, 60, 70]\n"
          ]
        }
      ],
      "source": [
        "lst1 = [10,20,30,40,50]\n",
        "lst2 = [30,40,50,60,70]\n",
        "\n",
        "merge_list = lst1+[item for item in lst2 if item not in lst1]\n",
        "print(merge_list)\n"
      ]
    },
    {
      "cell_type": "code",
      "execution_count": null,
      "metadata": {},
      "outputs": [
        {
          "name": "stdout",
          "output_type": "stream",
          "text": [
            "[1, 2, 4]\n"
          ]
        }
      ],
      "source": [
        "# plus one probelem \n",
        "# Input: digits = [1,2,3]\n",
        "# Output: [1,2,4]\n",
        "# Explanation: The array represents the integer 123.\n",
        "# Incrementing by one gives 123 + 1 = 124.\n",
        "# Thus, the result should be [1,2,4].\n",
        "\n",
        "lst = [1,2,3]\n",
        "num = 0\n",
        "lst2 = []\n",
        "for i in range(0,len(lst)):\n",
        "    num = num*10 + lst[i]\n",
        "lst1 =[int(x) for x in str(num+1)]\n",
        "print(lst1)   \n",
        "        \n",
        "\n",
        "\n",
        "\n",
        "\n",
        "\n",
        "    \n"
      ]
    },
    {
      "cell_type": "code",
      "execution_count": null,
      "metadata": {
        "id": "UUjPcs5decmB"
      },
      "outputs": [],
      "source": [
        "## Three sum problem(leetcode)"
      ]
    },
    {
      "cell_type": "code",
      "execution_count": 18,
      "metadata": {},
      "outputs": [
        {
          "name": "stdout",
          "output_type": "stream",
          "text": [
            "-1 -1 2\n",
            "-1 0 1\n",
            "-1 0 1\n"
          ]
        }
      ],
      "source": [
        "nums = [-1,0,1,2,-1,-4]\n",
        "nums.sort()\n",
        "for i in range(0,len(nums)-2):\n",
        "    start = i+1\n",
        "    end = len(nums)-1\n",
        "    while(start<end):\n",
        "        if nums[i]+nums[start]+nums[end]==0 :\n",
        "            print(nums[i],nums[start],nums[end])\n",
        "            start+=1\n",
        "            end-=1\n",
        "        elif (nums[i]+nums[start]+nums[end]>0):\n",
        "            end-=1\n",
        "        else:\n",
        "            start+=1    \n",
        "\n"
      ]
    },
    {
      "cell_type": "code",
      "execution_count": null,
      "metadata": {},
      "outputs": [
        {
          "name": "stdout",
          "output_type": "stream",
          "text": [
            "hello\n"
          ]
        }
      ],
      "source": [
        "# dictionary : key : value pairs\n",
        "# why we use dictionary?\n",
        "# time complexity of dictionary is O(1)\n",
        "# key specific \n",
        "# value can be duplicate or unique\n",
        "# we can use dictionary to store data in a more efficient way\n",
        "\n",
        "# key will always be of immutable type like int, float, str, tuple, etc.\n",
        "# what are the immutable and mutable datatype in  types in python in terms of memory address?\n",
        "\n"
      ]
    },
    {
      "cell_type": "code",
      "execution_count": null,
      "metadata": {},
      "outputs": [
        {
          "name": "stdout",
          "output_type": "stream",
          "text": [
            "{10: 'isha', 'rollno': 99}\n",
            "{'rollno': 99} isha\n",
            "{} ('rollno', 99)\n"
          ]
        }
      ],
      "source": [
        "mydic = {10:\"isha\" , \"rollno\":[90,100]}\n",
        "mydic[\"rollno\"] = 99\n",
        "print(mydic)  \n",
        "\n",
        "# removing in dic\n",
        "x = mydic.pop(10)\n",
        "print(mydic , x)   # output: {'rollno': 99}  # rollno is\n",
        "\n",
        "y= mydic.popitem()\n",
        "print(mydic , y)  # output: {'rollno': 99}  # roll"
      ]
    },
    {
      "cell_type": "code",
      "execution_count": null,
      "metadata": {},
      "outputs": [
        {
          "data": {
            "text/plain": [
              "{10: 'isha', 20: 'aman'}"
            ]
          },
          "execution_count": 26,
          "metadata": {},
          "output_type": "execute_result"
        }
      ],
      "source": [
        "# tuples to dic \n",
        "data = [(10 ,\"isha\") , (20 , \"aman\")]\n",
        "dict(data)\n",
        "# but it only takes only 2 values in the tuple , \n",
        "# if we have more than 2 values in the tuple then it will throw an error"
      ]
    },
    {
      "cell_type": "code",
      "execution_count": null,
      "metadata": {},
      "outputs": [],
      "source": [
        "### List comprehension===> list comprehension is a way to create a new list in a consize way.i allows us to \n",
        "### generate a new list by applying an expression for each item in a givenn iterable"
      ]
    },
    {
      "cell_type": "code",
      "execution_count": null,
      "metadata": {},
      "outputs": [
        {
          "name": "stdout",
          "output_type": "stream",
          "text": [
            "{'a': 1, 'b': 2, 'c': 3, 'd': 4, 'e': 5}\n"
          ]
        }
      ],
      "source": [
        "## dict comprehension==>dict comprehension is a way to create  adictionary in a concize way.it allows us to generate the \n",
        "## a dictionary in key value pair by applying an expresson for each item in a given iterable\n",
        "\n",
        "\n",
        "keys = ['a','b','c','d','e']\n",
        "values = [1,2,3,4,5]  \n",
        "\n",
        "# but this line shows dict comprehension here  \n",
        "myDict = { k:v for (k,v) in zip(keys, values)}\n",
        "print(myDict)  \n",
        "\n"
      ]
    },
    {
      "cell_type": "code",
      "execution_count": null,
      "metadata": {},
      "outputs": [
        {
          "name": "stdout",
          "output_type": "stream",
          "text": [
            "{1: 1, 2: 4, 3: 9, 4: 16, 5: 25}\n"
          ]
        }
      ],
      "source": [
        "myDict = {x: x**2 for x in [1,2,3,4,5]}\n",
        "print (myDict)"
      ]
    },
    {
      "cell_type": "code",
      "execution_count": null,
      "metadata": {},
      "outputs": [],
      "source": [
        "## what is set==>set is a mutable data type which means we can add or delete item in it.set is unordered and do not \n",
        "## index positions.and the very important thing is that we cannot change the item after making the set except add or delete"
      ]
    },
    {
      "cell_type": "code",
      "execution_count": null,
      "metadata": {},
      "outputs": [
        {
          "name": "stdout",
          "output_type": "stream",
          "text": [
            "{True, 'for', 52.7, 10, 'Geeks'}\n"
          ]
        }
      ],
      "source": [
        "# Python example demonstrate that a set\n",
        "# can store heterogeneous elements\n",
        "s = {\"Geeks\", \"for\", 10, 52.7, True}\n",
        "print(s)"
      ]
    },
    {
      "cell_type": "code",
      "execution_count": null,
      "metadata": {},
      "outputs": [],
      "source": [
        "## set comprehension==>same as list comprehension but it filter the duplicate elements"
      ]
    },
    {
      "cell_type": "code",
      "execution_count": null,
      "metadata": {},
      "outputs": [
        {
          "name": "stdout",
          "output_type": "stream",
          "text": [
            "{2, 4, 6}\n"
          ]
        }
      ],
      "source": [
        "## Example 1: Extracting unique even numbers\n",
        "\n",
        "\n",
        "\n",
        "\n",
        "a = [1, 2, 2, 3, 4, 4, 5, 6, 6, 7]\n",
        "\n",
        "res = {num for num in a if num % 2 == 0}\n",
        "print(res)"
      ]
    },
    {
      "cell_type": "code",
      "execution_count": null,
      "metadata": {},
      "outputs": [
        {
          "name": "stdout",
          "output_type": "stream",
          "text": [
            "[10, 25, 14, 6, 8, 1, 78, 521, 654, 2]\n",
            "[654, 521, 78, 25, 14, 10, 8, 6, 2, 1]\n"
          ]
        }
      ],
      "source": [
        "list1 = [10,25,14,6,8,1,78,521,8,654,1,2,521]\n",
        "mylist = []\n",
        "k = 2\n",
        "for i in list1:\n",
        "    if i not in mylist:\n",
        "        mylist.append(i)\n",
        "print(mylist) \n",
        "for i in range(0,len(mylist)):\n",
        "    for j in range(i+1,len(mylist)):\n",
        "        if mylist[i]<mylist[j]:\n",
        "                mylist[i],mylist[j]=mylist[j],mylist[i]\n",
        "print(mylist)\n",
        "\n",
        "    \n"
      ]
    },
    {
      "cell_type": "code",
      "execution_count": null,
      "metadata": {},
      "outputs": [
        {
          "name": "stdout",
          "output_type": "stream",
          "text": [
            "DCV\n"
          ]
        }
      ],
      "source": [
        "char = ['M','CM','D','CD','C','XC','L','XL','X','IX','V','IV','I']\n",
        "val = [1000,900,500,400,100,90,50,40,10,4,1]\n",
        "num = 601\n",
        "lst = ''\n",
        "i=0\n",
        "while(num>0):\n",
        "    for _ in range(num//val[i]):\n",
        "        lst+=char[i]\n",
        "        num-=val[i]\n",
        "    i+=1\n",
        "        \n",
        "print(lst)        \n",
        "\n",
        " \n"
      ]
    },
    {
      "cell_type": "code",
      "execution_count": null,
      "metadata": {},
      "outputs": [
        {
          "name": "stdout",
          "output_type": "stream",
          "text": [
            "1 2 3\n"
          ]
        }
      ],
      "source": [
        "# keyword length argument=> keyword argument is a way of passing arguments to a function by\n",
        "#  explicitly specifying the name of the argument and its corresponding value.\n",
        "\n",
        "def func(a,b,c):\n",
        "    print(a,b,c)\n",
        "\n",
        "func(1,2,3)    "
      ]
    },
    {
      "cell_type": "code",
      "execution_count": null,
      "metadata": {},
      "outputs": [
        {
          "name": "stdout",
          "output_type": "stream",
          "text": [
            "{10: 40, 20: 50, 300: 60}\n"
          ]
        }
      ],
      "source": [
        "l1=[10,20,300]\n",
        "l2=[40,50,60]\n",
        "result = {}\n",
        "for i in range(len(l1)):\n",
        "    result[l1[i]] = l2[i]\n",
        "print(result)    \n",
        "    "
      ]
    },
    {
      "cell_type": "code",
      "execution_count": null,
      "metadata": {},
      "outputs": [
        {
          "name": "stdout",
          "output_type": "stream",
          "text": [
            "{'lokesh', 'aman'}\n"
          ]
        }
      ],
      "source": [
        "# Q2 {name: marks .. . . . .  ======>} multiple elements\n",
        "# now take a input from the user for score variable\n",
        "# - print the key who have more value then the score variable\n",
        "\n",
        "mydict ={'rishav':10,'gautam':12,\"aman\":15,'lokesh':17}\n",
        "score =int(input(\"give me the required score\"))\n",
        "keys_greater_then_score ={key for key,value in mydict.items() if value>score}\n",
        "print(keys_greater_then_score)"
      ]
    },
    {
      "cell_type": "code",
      "execution_count": 26,
      "metadata": {},
      "outputs": [
        {
          "ename": "TypeError",
          "evalue": "cannot unpack non-iterable int object",
          "output_type": "error",
          "traceback": [
            "\u001b[1;31m---------------------------------------------------------------------------\u001b[0m",
            "\u001b[1;31mTypeError\u001b[0m                                 Traceback (most recent call last)",
            "Cell \u001b[1;32mIn[26], line 3\u001b[0m\n\u001b[0;32m      1\u001b[0m mydict \u001b[38;5;241m=\u001b[39m {\u001b[38;5;241m10\u001b[39m:\u001b[38;5;241m19\u001b[39m,  \u001b[38;5;241m11\u001b[39m:\u001b[38;5;241m20\u001b[39m,  \u001b[38;5;241m13\u001b[39m:\u001b[38;5;28;01mNone\u001b[39;00m}\n\u001b[0;32m      2\u001b[0m \u001b[38;5;66;03m# delete the key-value pair where the value is none\u001b[39;00m\n\u001b[1;32m----> 3\u001b[0m \u001b[38;5;28;01mfor\u001b[39;00m key,value \u001b[38;5;129;01min\u001b[39;00m mydict:\n\u001b[0;32m      4\u001b[0m     \u001b[38;5;28;01mif\u001b[39;00m value\u001b[38;5;241m==\u001b[39m\u001b[38;5;28;01mNone\u001b[39;00m:\n\u001b[0;32m      5\u001b[0m        mydict\u001b[38;5;241m.\u001b[39mpop(key)\n",
            "\u001b[1;31mTypeError\u001b[0m: cannot unpack non-iterable int object"
          ]
        }
      ],
      "source": [
        "mydict = {10:19,  11:20,  13:None}\n",
        "# delete the key-value pair where the value is none\n",
        "for key,value in mydict:\n",
        "    if value==None:\n",
        "       mydict.pop(key)\n",
        "print(mydict)         "
      ]
    },
    {
      "cell_type": "code",
      "execution_count": 30,
      "metadata": {},
      "outputs": [
        {
          "name": "stdout",
          "output_type": "stream",
          "text": [
            "[(10, 19), (11, 20)]\n",
            "{10: 19, 11: 20}\n"
          ]
        }
      ],
      "source": [
        "mydict = {10: 19, 11: 20, 13: None}\n",
        "\n",
        "# Delete the key-value pair where the value is None\n",
        "for key, value in list(mydict.items()):  # Use .items() to get key-value pairs\n",
        "    if value is None:\n",
        "        mydict.pop(key)\n",
        "print(list(mydict.items()))\n",
        "print(mydict)"
      ]
    },
    {
      "cell_type": "code",
      "execution_count": null,
      "metadata": {},
      "outputs": [
        {
          "name": "stdout",
          "output_type": "stream",
          "text": [
            "{'x': 25, 'y': 49, 'z': 100}\n"
          ]
        }
      ],
      "source": [
        "# Q4:   {\"x\":5, \"y\":7, \"z\":10}\n",
        "#       print new dictionary as square of each key {x:25, y:49,  z:100}\n",
        "\n",
        "mydict = {\"x\":5, \"y\":7, \"z\":10}\n",
        "mydict ={key:value**2 for key,value in mydict.items()}\n",
        "print(mydict)"
      ]
    },
    {
      "cell_type": "code",
      "execution_count": null,
      "metadata": {},
      "outputs": [
        {
          "name": "stdout",
          "output_type": "stream",
          "text": [
            "{1: 1, 2: 8, 3: 27, 4: 64, 5: 125}\n"
          ]
        }
      ],
      "source": [
        "# Q5\n",
        "# create a dictionary as cube of number from 1 to 5\n",
        "#  Note use only thing we have learnt\n",
        "\n",
        "mydict = {}\n",
        "for i in range(1,6):\n",
        "    mydict[i]=i**3\n",
        "print(mydict)\n"
      ]
    },
    {
      "cell_type": "code",
      "execution_count": null,
      "metadata": {},
      "outputs": [
        {
          "name": "stdout",
          "output_type": "stream",
          "text": [
            "{'Average': 7.333333333333333, 'Max': 10}\n"
          ]
        }
      ],
      "source": [
        "mydict = {\"x\":5, \"y\":7, \"z\":10}\n",
        "#    get the ans in new dictionary {\"average\":7.3 ,   \"max\":10}\n",
        "mydict1 ={}\n",
        "total = 0\n",
        "count = 0\n",
        "max = 0\n",
        "for i in mydict.values():\n",
        "    if i>max:\n",
        "        max = i\n",
        "        total+=i\n",
        "        count+=1\n",
        "average = total/count\n",
        "mydict1[\"Average\"] = average\n",
        "mydict1[\"Max\"] = max\n",
        "print(mydict1)\n",
        "   \n",
        "   \n",
        "\n",
        "\n"
      ]
    },
    {
      "cell_type": "code",
      "execution_count": null,
      "metadata": {},
      "outputs": [],
      "source": [
        "def func():\n",
        "    a = 0\n",
        "    b = 1\n",
        "    for i in range(1,10):\n",
        "        yield a\n",
        "        c = a+b\n",
        "        a=b\n",
        "        b=c"
      ]
    },
    {
      "cell_type": "code",
      "execution_count": null,
      "metadata": {},
      "outputs": [
        {
          "name": "stdout",
          "output_type": "stream",
          "text": [
            "0\n",
            "1\n",
            "1\n",
            "2\n",
            "3\n",
            "5\n",
            "8\n",
            "13\n",
            "21\n"
          ]
        }
      ],
      "source": [
        "gen=func()\n",
        "for i in gen:\n",
        "    print(i)"
      ]
    },
    {
      "cell_type": "code",
      "execution_count": null,
      "metadata": {},
      "outputs": [
        {
          "name": "stdout",
          "output_type": "stream",
          "text": [
            "the maximum number is: 99\n"
          ]
        }
      ],
      "source": [
        "## list questions\n",
        "\n",
        "# 1. Write a Python program to find the maximum element\n",
        "#  in a list of numbers without max functions\n",
        "# The maximum element is: 99\n",
        "\n",
        "numbers = [10, 20, 4, 45, 99]\n",
        "max = numbers[0]\n",
        "for i in range(0,len(numbers)):\n",
        "    if numbers[i]>max:\n",
        "        max = numbers[i]\n",
        "print(\"the maximum number is:\",max)        "
      ]
    },
    {
      "cell_type": "code",
      "execution_count": null,
      "metadata": {},
      "outputs": [
        {
          "name": "stdout",
          "output_type": "stream",
          "text": [
            "The sum of numbers is: 100\n"
          ]
        }
      ],
      "source": [
        "# 2. Write a Python program to sum all the elements in a list of numbers.\n",
        "# b. The sum of all elements is: 100\n",
        "\n",
        "numbers = [10, 20, 30, 40]\n",
        "sum = 0\n",
        "for i in range(0,len(numbers)):\n",
        "    sum+=numbers[i]\n",
        "\n",
        "print(\"The sum of numbers is:\",sum)    "
      ]
    },
    {
      "cell_type": "code",
      "execution_count": null,
      "metadata": {},
      "outputs": [
        {
          "name": "stdout",
          "output_type": "stream",
          "text": [
            "[5, 4, 3, 2, 1]\n"
          ]
        }
      ],
      "source": [
        "# 3. Write a Python program to reverse a list without reverse or slicing operator\n",
        "numbers = [1, 2, 3, 4, 5]\n",
        "# b. Reversed list: [5, 4, 3, 2, 1]\n",
        "for i in range(0,len(numbers)):\n",
        "    for j in range(i+1,len(numbers)):\n",
        "        if numbers[i]<numbers[j]:\n",
        "            numbers[i],numbers[j]=numbers[j],numbers[i]\n",
        "\n",
        "print(numbers)    \n"
      ]
    },
    {
      "cell_type": "code",
      "execution_count": null,
      "metadata": {},
      "outputs": [
        {
          "name": "stdout",
          "output_type": "stream",
          "text": [
            "[1, 2, 3, 4, 5]\n"
          ]
        }
      ],
      "source": [
        "# Q-4 Write a Python program to reverse a list without reverse or slicing operator\n",
        "\n",
        "numbers = [5,4,3,2,1]\n",
        "# b. Reversed list: [1,2,3,4,5]\n",
        "for i in range(0,len(numbers)):\n",
        "    for j in range(i+1,len(numbers)):\n",
        "        if numbers[i]>numbers[j]:\n",
        "            numbers[i],numbers[j]=numbers[j],numbers[i]\n",
        "\n",
        "print(numbers)    "
      ]
    },
    {
      "cell_type": "code",
      "execution_count": null,
      "metadata": {},
      "outputs": [
        {
          "name": "stdout",
          "output_type": "stream",
          "text": [
            "[1, 2, 3, 4, 5]\n"
          ]
        }
      ],
      "source": [
        "# 5. Write a Python program to remove duplicates from a list while maintaining the order\n",
        "# of elements.\n",
        "numbers = [1, 2, 2, 3, 4, 4, 5]\n",
        "# b. List after removing duplicates: [1, 2, 3, 4, 5]\n",
        "numbers1 = []\n",
        "for i in range(0,len(numbers)):\n",
        "    if numbers[i] not in numbers1:\n",
        "        numbers1.append(numbers[i])\n",
        "print(numbers1)        "
      ]
    },
    {
      "cell_type": "code",
      "execution_count": null,
      "metadata": {},
      "outputs": [],
      "source": [
        "# 6. Write a Python program to find all pairs of numbers in a list that add up to a specific\n",
        "# target sum.\n",
        "numbers = [1, 2, 3, 4, 3, 5, 6] \n",
        "target_sum = 6\n",
        "# b. Pairs that add up to 6: [(3, 3), (2, 4), (1, 5)]\n",
        "\n",
        "for i in range(0,len(numbers)):\n",
        "    if numbers[i]"
      ]
    },
    {
      "cell_type": "code",
      "execution_count": null,
      "metadata": {},
      "outputs": [
        {
          "name": "stdout",
          "output_type": "stream",
          "text": [
            "[]\n"
          ]
        }
      ],
      "source": [
        "# 7. Write a Python program to flatten a nested list (list within lists) into a single list.\n",
        "# b. Flattened list: [1, 2, 3, 4, 5, 6, 7, 8]\n",
        "\n",
        "nested_list = [1, [2, 3], [4, [5, 6], 7], 8]\n",
        "nested_list1 = []\n",
        "for i in nested_list:\n",
        "        \n",
        "\n",
        "\n"
      ]
    },
    {
      "cell_type": "code",
      "execution_count": null,
      "metadata": {},
      "outputs": [
        {
          "name": "stdout",
          "output_type": "stream",
          "text": [
            "the sum of numbers is: 9\n"
          ]
        }
      ],
      "source": [
        "# Write a Python program to find the sum of the elements in a list, excluding the largest\n",
        "# and smallest element. Don’t use max or min functions\n",
        "# b. Sum excluding the largest and smallest element: 9\n",
        "\n",
        "numbers = [1, 2, 3, 4, 5]\n",
        "numbers.pop(0)\n",
        "numbers.pop(-1)\n",
        "sum = 0\n",
        "for i in range(0,len(numbers)):\n",
        "    sum+= numbers[i]\n",
        "print(\"the sum of numbers is:\",sum)\n"
      ]
    },
    {
      "cell_type": "code",
      "execution_count": null,
      "metadata": {},
      "outputs": [],
      "source": [
        "# INTERMEDIATE LEVEL"
      ]
    },
    {
      "cell_type": "code",
      "execution_count": null,
      "metadata": {},
      "outputs": [
        {
          "name": "stdout",
          "output_type": "stream",
          "text": [
            "this is pallindrome number\n"
          ]
        }
      ],
      "source": [
        "# 9. Write a Python program to check if a list is a palindrome (reads the same backward\n",
        "# as forward) using two pointer approach\n",
        "# b. True\n",
        "\n",
        "numbers = [1, 2, 3, 2, 1]\n",
        "start = numbers[0]\n",
        "end = numbers[-1]\n",
        "while(start==end):\n",
        "    if start==end:\n",
        "        start+=1\n",
        "        end-=1\n",
        "        print(\"this is pallindrome number\")\n",
        "        \n",
        "    else:\n",
        "        print(\"this is not a pallindrome number\")\n",
        "        break   "
      ]
    },
    {
      "cell_type": "code",
      "execution_count": null,
      "metadata": {},
      "outputs": [
        {
          "name": "stdout",
          "output_type": "stream",
          "text": [
            "[1, 2, 3, 4, 5, 6]\n"
          ]
        }
      ],
      "source": [
        "# 10. Write a function to remove duplicate elements from a list.\n",
        "# b. [1, 2, 3, 4, 5, 6]\n",
        "\n",
        "numbers = [1, 2, 3, 2, 4, 5, 1, 6]\n",
        "numbers = set(numbers)\n",
        "print(list(numbers))"
      ]
    },
    {
      "cell_type": "code",
      "execution_count": null,
      "metadata": {},
      "outputs": [
        {
          "name": "stdout",
          "output_type": "stream",
          "text": [
            "[3, 4, 5]\n"
          ]
        }
      ],
      "source": [
        "# 11. Find Common Elements in Two Lists\n",
        "# Result: [3, 4, 5]\n",
        "\n",
        "list1 = [1, 2, 3, 4, 5]\n",
        "list2 = [3, 4, 5, 6, 7]\n",
        "list3 = set(list1).intersection(set(list2))\n",
        "print(list(list3))"
      ]
    },
    {
      "cell_type": "code",
      "execution_count": null,
      "metadata": {},
      "outputs": [
        {
          "name": "stdout",
          "output_type": "stream",
          "text": [
            "strawberry\n"
          ]
        }
      ],
      "source": [
        "# 12. Find the Longest Word in a List\n",
        "# b. Strawberry\n",
        "\n",
        "words = [\"apple\", \"banana\", \"strawberry\", \"kiwi\"]\n",
        "b = words[0]\n",
        "for word in words:\n",
        "    if len(word)>len(b):\n",
        "        b = word\n",
        "print((b))\n"
      ]
    },
    {
      "cell_type": "code",
      "execution_count": null,
      "metadata": {},
      "outputs": [
        {
          "name": "stdout",
          "output_type": "stream",
          "text": [
            "3\n"
          ]
        }
      ],
      "source": [
        "# 14. Find Missing Number in a List\n",
        "# You are given a list of n-1 numbers in the range 1 to n. One number is missing\n",
        "# from the sequence. Find the missing number.\n",
        "# b. 3\n",
        "\n",
        "numbers = [1, 2, 4, 5, 6]\n",
        "for i in range(0,len(numbers)-1):\n",
        "    z =numbers[i]+1\n",
        "    if z not in numbers:\n",
        "        print(z)"
      ]
    },
    {
      "cell_type": "code",
      "execution_count": 22,
      "metadata": {},
      "outputs": [
        {
          "name": "stdout",
          "output_type": "stream",
          "text": [
            "1\n"
          ]
        }
      ],
      "source": [
        "# 15. Find the First Non-Repeating Element\n",
        "# Given a list of integers, find the first element that appears only once.\n",
        "# b. Expected Output: 1\n",
        "\n",
        "numbers = [4, 5, 1, 2, 0, 4, 5, 2]\n",
        "count = {}\n",
        "non_repeat =[]\n",
        "for num in numbers:\n",
        "    if num not in count:\n",
        "        count[num] = 1\n",
        "    else: \n",
        "        count[num]+=1\n",
        "for num in count:\n",
        "    if count[num] == 1:\n",
        "        print(num)\n",
        "        break\n",
        "\n",
        "\n",
        "\n",
        "   "
      ]
    },
    {
      "cell_type": "code",
      "execution_count": null,
      "metadata": {},
      "outputs": [
        {
          "name": "stdout",
          "output_type": "stream",
          "text": [
            "[1, 3, 12]\n"
          ]
        }
      ],
      "source": [
        "# 16. Move All Zeros to the End\n",
        "# Given a list of integers, move all zeros to the end while maintaining the relative order\n",
        "# of non-zero elements. Don’t use any inbuilt functions\n",
        "# b. [1, 3, 12, 0, 0]\n",
        "\n",
        "\n",
        "numbers = [0, 1, 0, 3, 12]\n",
        "numbers1 =[]\n",
        "for i in numbers:\n",
        "    if i != 0:\n",
        "        numbers1.append(i)\n",
        "    else:\n",
        "            \n",
        "    \n",
        "print(numbers1)        \n",
        "\n",
        "               \n",
        "\n",
        "\n",
        "    \n",
        "            \n"
      ]
    },
    {
      "cell_type": "code",
      "execution_count": 17,
      "metadata": {},
      "outputs": [
        {
          "name": "stdout",
          "output_type": "stream",
          "text": [
            "[3, 6, 8]\n"
          ]
        }
      ],
      "source": [
        "# 17. Find Elements Greater Than Their Left Neighbor\n",
        "# b. [3, 6, 8]\n",
        "\n",
        "numbers = [1, 3, 2, 6, 5, 8, 7]\n",
        "numbers1 = []\n",
        "for i in range(0,len(numbers)-1,2):\n",
        "    numbers1.append(numbers[i+1])\n",
        "print(numbers1)\n",
        "    "
      ]
    },
    {
      "cell_type": "code",
      "execution_count": 20,
      "metadata": {},
      "outputs": [
        {
          "name": "stdout",
          "output_type": "stream",
          "text": [
            "-1 -1 2\n",
            "-1 0 1\n",
            "-1 0 1\n"
          ]
        }
      ],
      "source": [
        "#18 Find Triplets That Sum to Zero\n",
        "#given list of numbers, find all unique triplets (a, b, c) such that a + b + c = 0.\n",
        "# b. Expected Output: [(-1, -1, 2), (-1, 0, 1)]\n",
        "\n",
        "\n",
        "numbers = [-1, 0, 1, 2, -1, -4]\n",
        "\n",
        "nums.sort()\n",
        "for i in range(0,len(nums)-2):\n",
        "    start = i+1\n",
        "    end = len(nums)-1\n",
        "    while(start<end):\n",
        "        if nums[i]+nums[start]+nums[end]==0 :\n",
        "            print(nums[i],nums[start],nums[end])\n",
        "            start+=1\n",
        "            end-=1\n",
        "        elif (nums[i]+nums[start]+nums[end]>0):\n",
        "            end-=1\n",
        "        else:\n",
        "            start+=1    "
      ]
    }
  ],
  "metadata": {
    "colab": {
      "provenance": []
    },
    "kernelspec": {
      "display_name": "base",
      "language": "python",
      "name": "python3"
    },
    "language_info": {
      "codemirror_mode": {
        "name": "ipython",
        "version": 3
      },
      "file_extension": ".py",
      "mimetype": "text/x-python",
      "name": "python",
      "nbconvert_exporter": "python",
      "pygments_lexer": "ipython3",
      "version": "3.12.7"
    }
  },
  "nbformat": 4,
  "nbformat_minor": 0
}
